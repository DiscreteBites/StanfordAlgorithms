{
 "cells": [
  {
   "attachments": {},
   "cell_type": "markdown",
   "metadata": {},
   "source": [
    "# Hash Tables\n",
    "\n",
    "The goal is to maintain a (possibly evolving) set of objects. We aim to implement insert, delete and lookup (via a key). Using a properly implemented hash table, all of these operations can be done in $O(1)$ time (for \"non-pathalogical\" data)."
   ]
  },
  {
   "attachments": {},
   "cell_type": "markdown",
   "metadata": {},
   "source": [
    "Let $U$ be the universe of all possible elements. We aim to maintain a evolving set $S \\subseteq U$.\n",
    "\n",
    "1. Pick $n = O(\\lvert S \\rvert)$, \n",
    "2. choose a hash function\n",
    "$$\n",
    "h: U \\mapsto \\{0, 1, 2, \\cdots, n-1 \\}\n",
    "$$\n",
    "3. use an array $A$ of length $n$ store $x$ in $A[h(x)]$\n",
    "\n",
    "In general however, with only $\\sqrt{n}$ elements, there is a $50%$ chance of two elements mapping to the same hash. To resolve collisions we may opt to\n",
    "\n",
    "1. Seperate chaining: \n",
    "\n",
    "    Create a linked link in each bucket\n",
    "2. Open addressing:\n",
    "\n",
    "    maintain only one object per bucket. Using a hash function to specify a sequence of arrays to try, until we find an open slot.\n",
    "\n",
    "    "
   ]
  },
  {
   "attachments": {},
   "cell_type": "markdown",
   "metadata": {},
   "source": [
    "A good hash function achieves two things\n",
    "1. Spreads out the data evenly\n",
    "2. Easy to compute / remeber the hash\n",
    "\n",
    "The load of a hash table is\n",
    "$$\n",
    "\\alpha = \\frac{\\text{\\# objects in hash table}}{\\text{\\# of buckets}}\n",
    "$$.\n",
    "In order for the hash tables operations to run in constant time, we need\n",
    "$$\n",
    "\\alpha = O(1)\n",
    "$$\n",
    "Furthermore, for open addressing we need $\\alpha << 1$.\n",
    "\n",
    "To maintain this, we can grow the number of buckets with the number of objects in the hash table."
   ]
  }
 ],
 "metadata": {
  "language_info": {
   "name": "python"
  },
  "orig_nbformat": 4
 },
 "nbformat": 4,
 "nbformat_minor": 2
}
