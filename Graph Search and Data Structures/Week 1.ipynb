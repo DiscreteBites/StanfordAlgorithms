{
 "cells": [
  {
   "attachments": {},
   "cell_type": "markdown",
   "metadata": {},
   "source": [
    "# Graph Search"
   ]
  },
  {
   "attachments": {},
   "cell_type": "markdown",
   "metadata": {},
   "source": [
    "Breadth First Search: $O(n)$ using a FIFO queue\n",
    "- explore the nodes in layers\n",
    "- can compute shortest path\n",
    "- can compute connected components of an undirected graph\n",
    "\n",
    "Depth First Search: $O(m + n)$ using a LIFO stack via recursion\n",
    "- explore aggressively\n",
    "- comput topological ordering of directed acyclic graph\n",
    "- compute connected components in directed graph"
   ]
  },
  {
   "attachments": {},
   "cell_type": "markdown",
   "metadata": {},
   "source": [
    "## BFS"
   ]
  },
  {
   "attachments": {},
   "cell_type": "markdown",
   "metadata": {},
   "source": [
    "### Pseudocode\n",
    "\n",
    "```\n",
    "BFS(graph G, start vertex s):\n",
    "\n",
    "initialise all nodes as unexplored\n",
    "mark s as explored\n",
    "let Q = FIFO data structure, initialised with s\n",
    "\n",
    "while Q is not empty,\n",
    "    remove the first node of Q, call it V\n",
    "\n",
    "    for each edge(v, w):\n",
    "        if w is unexplored:\n",
    "            mark w as explored\n",
    "            add w to Q (at the end)\n",
    "```\n",
    "\n",
    "### Shortest Path\n",
    "\n",
    "dist(v) the feqest number of edges on a path from s to v.\n",
    "\n",
    "Intialise,\n",
    "$$\n",
    "dist(v) = \n",
    "\\begin{cases}\n",
    "0 & \\text{if} \\quad v = s\\\\\n",
    "+\\infty & \\text{if} \\quad v \\neq s\n",
    "\\end{cases}\n",
    "$$\n",
    "\n",
    "Then when considering the edge(v, w) include the line\n",
    "```\n",
    "if w is unexplored:\n",
    "    set dist(w) = dist(v) + 1\n",
    "```\n",
    "\n",
    "At termination, $dist(v) = i$ says that $v$ is in the $i^{th}$ layer"
   ]
  },
  {
   "attachments": {},
   "cell_type": "markdown",
   "metadata": {},
   "source": [
    "## Undirected Connectivity\n",
    "\n",
    "Let $G = (V, E)$ be an undirected graph. A connected component is a maximal connected reigon.\n",
    "\n",
    "Formally, it is an equivalence class of the relation\n",
    "$$\n",
    "u \\sim v \\iff \\exist (u, v) \\quad\\text{path in}\\quad G\n",
    "$$\n",
    "\n",
    "### Via BFS\n",
    "```\n",
    "mark all nodes unexplored\n",
    "\n",
    "for i=1 to n:\n",
    "    if i is not explored:\n",
    "        BFS(G, i)\n",
    "```\n",
    "\n",
    "Runs in $O(m + n)$"
   ]
  },
  {
   "attachments": {},
   "cell_type": "markdown",
   "metadata": {},
   "source": [
    "## DFS"
   ]
  },
  {
   "attachments": {},
   "cell_type": "markdown",
   "metadata": {},
   "source": [
    "Explore aggresivly, backtrack when necessary\n",
    "\n",
    "Psuedocode (recursive version)\n",
    "```\n",
    "DFS(graph G, start node s):\n",
    "\n",
    "mark s as explored\n",
    "\n",
    "for every edge(s,v):\n",
    "    if v is unexplored:\n",
    "        DFS(G, v)\n",
    "```"
   ]
  },
  {
   "attachments": {},
   "cell_type": "markdown",
   "metadata": {},
   "source": [
    "## Topological ordering\n",
    "\n",
    "For a directed acyclic graph $G$, a topological ordering is a labelling $f$ of node $v \\in G$, such that\n",
    "$$\n",
    "f(v) = \\set{x \\in \\N | 1 \\leq x \\leq |G| } \\\\\n",
    "\\forall (u, v) \\in G \\implies f(u) < f(v)\n",
    "$$\n",
    "\n",
    "Where $(u, v)$ is a directed edge from $u$ to $v$.\n",
    "\n",
    "Theorem: acyclic $\\iff$ topological ordering exists\n",
    "\n",
    "Proof:\n",
    "\n",
    "- every directed acyclic graph has at least one \"sink\" vertex.\n",
    "    - by the pidegonhole principle if a \"sink\" vertex dosent exist, graph must contain a cycle\n",
    "- last items in the topologial ordering will be these \"sink\" vertex.\n",
    "- by induction, we can recurse a smaller graph with the \"sink\" vertex removed.\n",
    "- this new graph has at least one \"sink\" vertex.\n",
    "- different ordering of sink vertecies give different valid orderings\n",
    "\n",
    "### Via DFS\n",
    "\n",
    "```\n",
    "mark all nodes unexplored\n",
    "\n",
    "current_label = n //keeps track of sink vertecies\n",
    "\n",
    "for each vertex v:\n",
    "    if v is unexplored:\n",
    "        DFS(G, v)\n",
    "```\n",
    "\n",
    "Within DFS, append at the end\n",
    "```\n",
    "set f(s) = current_label\n",
    "current_label--\n",
    "```"
   ]
  },
  {
   "attachments": {},
   "cell_type": "markdown",
   "metadata": {},
   "source": [
    "## Strong Connectivity for Directed Graphs\n",
    "\n",
    "Strongly connected components of a directed graph as the equivilance classes,\n",
    "\n",
    "$$\n",
    "u \\sim v \\iff \\exist (u, v) \\land (v, u) \\quad\\text{paths in}\\quad G\n",
    "$$\n",
    "\n",
    "Where $(u, v)$ is a directed edge from $u$ to $v$. Strongly connected reigons are cyclic by nature."
   ]
  },
  {
   "attachments": {},
   "cell_type": "markdown",
   "metadata": {},
   "source": [
    "### Kosaraju's Two-Pass Algorithm\n",
    "\n",
    "Can compute SCC in O(m + n) time\n",
    "\n",
    "Algorithm:\n",
    "1. Let $G^{rev}$ = G with all arcs in $G$ reversed\n",
    "2. run DFS-loop on $G^{rev}$\n",
    "3. run DFS-loop on $G$\n",
    "\n",
    "First pass on revered graph computes the ordering of nodes to traverse, second pass gets the SCCs.\n",
    "\n",
    "In the first pass, remember\n",
    "$$\n",
    "f(v) = \\text{\"finishing time\" of each vertex}\n",
    "$$\n",
    "Then run the second pass in decreasing order of finishing times\n",
    "\n",
    "First pass psuedocode, we keep track of finishing times \n",
    "```\n",
    "DFS-Loop(graph G):\n",
    "\n",
    "    global t=0 \\\\number of nodes processed\n",
    "    glboal s=NULL \\\\current source vertex\n",
    "\n",
    "    \\\\nodes labelled 1 to n\n",
    "    for i=n down to 1:\n",
    "        if i is unexplored:\n",
    "            s = i\n",
    "            DFS(G, i)\n",
    "\n",
    "DFS(graph G, node i):\n",
    "\n",
    "    global t\n",
    "    global s\n",
    "\n",
    "    mark i explored\n",
    "\n",
    "    for each arc (i, j) in G:\n",
    "        if j is unexplored:\n",
    "            DFS(G, j)\n",
    "\n",
    "    t++\n",
    "    f(i) := t\n",
    "```\n",
    "Then in the second pass, process nodes in reverse order of finishing time keeping track of the leaders of each node,\n",
    "\n",
    "```\n",
    "DFS(graph G, node i):\n",
    "\n",
    "    global t\n",
    "    global s\n",
    "\n",
    "    mark i explored\n",
    "    leader[i] := node s\n",
    "\n",
    "    for each arc (i, j) in G:\n",
    "        if j is unexplored:\n",
    "            DFS(G, j)\n",
    "```\n",
    "\n",
    "Analysis of correctness:\n",
    "\n",
    "Claim 1:\n",
    "\n",
    "The SCCs of a directed graph $G$ include an acyclic \"meta-graph\", where\n",
    "\"meta-nodes\" = the SCCs $C_1, \\ldots , C_k \\in G$\n",
    "\n",
    "Lemma:\n",
    "\n",
    "Consider two adjacent meta nodes in $G$, $C_1$ and $C_2$ such that there is an edge from $C_1$ to $C_2$. \n",
    "\n",
    "Let $f(v)$ = finishing times of DFS-Loop in $G^{rev}$. Then,\n",
    "$$\n",
    "\\max_{v \\in C_1} f(v) < \\max_{v \\in C_2} f(v)\n",
    "$$\n",
    "\n",
    "Corollary:\n",
    "\n",
    "maximum $f$-value of $G$ must lie in a \"sink SCC\".\n",
    "\n",
    "By Corollary:\n",
    "\n",
    "2nd pass of DFS-loop will begin in a sink SCC, and then loop only on sink SCCs, thus finding SCCs correctly.\n",
    "\n",
    "Proof of Lemma,\n",
    "\n",
    "in $G^{rev}$, the edge points from $C_2$ to $C_1$. In the first DFS-loop, there are two cases;\n",
    "\n",
    "Case 1: we visit a node in $C_1$ before a node in $C_2$. Then, all nodes within $C_1$ are found, and then nodes in $C_2$ are explored. Thus, the finishing time of nodes in $C_2$ > $C_1$\n",
    "$$\n",
    "f(v) > f(w) \\quad \\forall \\quad v \\in C_2 \\: \\text{,} \\: w \\in C_1\n",
    "$$\n",
    "\n",
    "Case 2: we visit a node in $C_2$ before a node in $C_2$. Then, the node $v$ whose edge points to $C_1$ will have a larger finishing time as all other nodes in $C_1$, as DFS will only mark a node as finished after all edges have been explored.\n",
    "$$\n",
    "f(v) > f(w) \\quad \\forall \\quad w \\in C_1\n",
    "$$"
   ]
  },
  {
   "attachments": {},
   "cell_type": "markdown",
   "metadata": {},
   "source": [
    "# Optional Theory Problem\n"
   ]
  },
  {
   "attachments": {},
   "cell_type": "markdown",
   "metadata": {},
   "source": [
    "## 1\n",
    "\n",
    "In the 2SAT problem, you are given a set of clauses, where each clause is the disjunction of two literals (a literal is a Boolean variable or the negation of a Boolean variable). You are looking for a way to assign a value \"true\" or \"false\" to each of the variables so that all clauses are satisfied --- that is, there is at least one true literal in each clause. For this problem, design an algorithm that determines whether or not a given 2SAT instance has a satisfying assignment. (Your algorithm does not need to exhibit a satisfying assignment, just decide whether or not one exists.) Your algorithm should run in $O(m+n)$ time where $m$ and $n$ are the number of clauses and variables, respectively. [Hint: strongly connected components.]"
   ]
  },
  {
   "attachments": {},
   "cell_type": "markdown",
   "metadata": {},
   "source": [
    "Disjuction means $\\wedge$ the \"or\" operator. So each clause is of the form\n",
    "$$\n",
    "(a \\lor b) \\\\\n",
    "(\\neg \\; a \\lor b) \\\\\n",
    "(a \\lor \\neg \\; b)\n",
    "$$\n",
    "For the variables $a$, $b$, etc. taking boolean values. Then in order to satisfy all the clauses, we need all of them to be true. Each disjunction can be written in an \"implicative normal form\". That is,\n",
    "\n",
    "Assuming that $(a \\lor b)$ is true, this can mean that either\n",
    "$$\n",
    "\\neg \\; a \\implies b \\quad \\lor \\quad \\neg \\; b \\implies a\n",
    "$$\n",
    "Since, if $a$ is not true then $b$ must be true for the or statement to be true and vice versa. With many clauses, a graph of the clauses can be made where edges are implications and the nodes are the variables $x$ as well as their negation $\\neg x$\n",
    "\n",
    "Note that if $\\neg x$ is reachable from $x$ and vice versa, then the set of clauses does not have a solution as \n",
    "$$\n",
    "x \\implies \\neg x\n",
    "$$\n",
    "is contradictory. \n",
    "\n",
    "Therefore, after we construct the graph, we can then look for all the strongly connected components. If any SCC contains both a var9able and its contradiction, then a satisfying assignment does not exist.\n",
    "\n",
    "We can then use Kosaraju's Two Pass DFS algorithm that runs in $O(m + n)$. To modify the code, we can create a dictionary that remembers the index of the SCC that each vertex is in. Then we can do $O(n)$ iterations to check if each vertex is in the same SCC as its negation"
   ]
  },
  {
   "attachments": {},
   "cell_type": "markdown",
   "metadata": {},
   "source": [
    "# Programming Assignment 1"
   ]
  },
  {
   "attachments": {},
   "cell_type": "markdown",
   "metadata": {},
   "source": [
    "The file contains the edges of a directed graph. Vertices are labeled as positive integers from 1 to 875714. Every row indicates an edge, the vertex label in first column is the tail and the vertex label in second column is the head (recall the graph is directed, and the edges are directed from the first column vertex to the second column vertex). So for example, the $11^{th}$ row looks liks : \"2 47646\". This just means that the vertex with label 2 has an outgoing edge to the vertex with label 47646\n",
    "\n",
    "Your task is to code up the algorithm from the video lectures for computing strongly connected components (SCCs), and to run this algorithm on the given graph.\n",
    "\n",
    "Output Format: You should output the sizes of the 5 largest SCCs in the given graph, in decreasing order of sizes, separated by commas (avoid any spaces). So if your algorithm computes the sizes of the five largest SCCs to be 500, 400, 300, 200 and 100, then your answer should be \"500,400,300,200,100\" (without the quotes). If your algorithm finds less than 5 SCCs, then write 0 for the remaining terms. Thus, if your algorithm computes only 3 SCCs whose sizes are 400, 300, and 100, then your answer should be \"400,300,100,0,0\" (without the quotes).  (Note also that your answer should not have any spaces in it.)\n",
    "\n",
    "WARNING: This is the most challenging programming assignment of the course. Because of the size of the graph you may have to manage memory carefully. The best way to do this depends on your programming language and environment, and we strongly suggest that you exchange tips for doing this on the discussion forums."
   ]
  },
  {
   "cell_type": "code",
   "execution_count": 294,
   "metadata": {},
   "outputs": [],
   "source": [
    "num_nodes = 875714"
   ]
  },
  {
   "cell_type": "code",
   "execution_count": 295,
   "metadata": {},
   "outputs": [],
   "source": [
    "g = {i: [] for i in range(1, num_nodes+1)}\n",
    "g_rv = {i: [] for i in range(1, num_nodes+1)}\n",
    "\n",
    "with open('Week 1 SCC.txt', 'r') as f:\n",
    "    for line in f:\n",
    "        items = line.split(\" \")\n",
    "        \n",
    "        head = int(items[0])\n",
    "        tail = int(items[1])\n",
    "        \n",
    "        g[head].append(tail)\n",
    "        g_rv[tail].append(head)"
   ]
  },
  {
   "cell_type": "code",
   "execution_count": 296,
   "metadata": {},
   "outputs": [],
   "source": [
    "class Stack:\n",
    "    def __init__(self):\n",
    "        self.arr = []\n",
    "        self.length = 0\n",
    "        return\n",
    "    \n",
    "    def __iter__(self):\n",
    "        return self\n",
    "\n",
    "    def __next__(self):\n",
    "        if self.length == 0:\n",
    "            raise StopIteration\n",
    "        self.length -= 1\n",
    "        return self.arr.pop()\n",
    "        \n",
    "    def push(self, elm):\n",
    "        self.length += 1\n",
    "        self.arr.append(elm)\n",
    "        return\n",
    "        \n",
    "    def get(self):\n",
    "        return self.arr[self.length-1]\n",
    "     \n",
    "    def pop(self):\n",
    "        self.length -= 1\n",
    "        return self.arr.pop()"
   ]
  },
  {
   "cell_type": "code",
   "execution_count": 297,
   "metadata": {},
   "outputs": [],
   "source": [
    "print_cycles = 1000"
   ]
  },
  {
   "attachments": {},
   "cell_type": "markdown",
   "metadata": {},
   "source": [
    "Finishing times are the order of when the node is completed. A node is completed when all of its child arcs have been traversed."
   ]
  },
  {
   "cell_type": "code",
   "execution_count": 298,
   "metadata": {},
   "outputs": [],
   "source": [
    "def dfs1_loop(g: dict[int: list[int]]):\n",
    "    \n",
    "    f_order = Stack()\n",
    "    \n",
    "    explored = {i: False for i in range(1, num_nodes+1)}\n",
    "    num_explored = 0\n",
    "    cycle = 0\n",
    "    \n",
    "    for i in range(1, num_nodes+1):\n",
    "        if explored[i] == False:\n",
    "            \n",
    "            nodeStack = Stack()\n",
    "            nodeStack.push(i)\n",
    "            \n",
    "            while nodeStack.length > 0:\n",
    "                \n",
    "                if num_explored // print_cycles > cycle:\n",
    "                    cycle += 1\n",
    "                    completion = (num_explored / num_nodes) * 100\n",
    "                    print(f'progress: {format(completion, \".2f\")}%, nodes: {num_explored}', end='\\r')\n",
    "                \n",
    "                node = nodeStack.get()\n",
    "\n",
    "                if explored[node] == False:\n",
    "                    explored[node] = True\n",
    "                    num_explored += 1\n",
    "                \n",
    "                has_unexplored_children = False\n",
    "                \n",
    "                for child in g[node]:\n",
    "                    if explored[child] == False:\n",
    "                        has_unexplored_children = True\n",
    "\n",
    "                        explored[child] = True\n",
    "                        num_explored += 1\n",
    "                        nodeStack.push(child)\n",
    "                \n",
    "                if not has_unexplored_children:\n",
    "                    f_order.push(nodeStack.pop())\n",
    "\n",
    "    completion = (num_explored / num_nodes) * 100\n",
    "    print(f'progress: {format(completion, \".2f\")}%, nodes: {num_explored}', end='\\n')\n",
    "    \n",
    "    return f_order"
   ]
  },
  {
   "cell_type": "code",
   "execution_count": 300,
   "metadata": {},
   "outputs": [
    {
     "name": "stdout",
     "output_type": "stream",
     "text": [
      "progress: 100.00%, nodes: 875714\n"
     ]
    }
   ],
   "source": [
    "f_order = dfs1_loop(g_rv)"
   ]
  },
  {
   "cell_type": "code",
   "execution_count": 302,
   "metadata": {},
   "outputs": [],
   "source": [
    "def dfs2_loop(g: dict[int, list[int]], f_order):\n",
    "\n",
    "    explored = {i: False for i in range(1, num_nodes+1)}\n",
    "    num_explored = 0\n",
    "    cycle = 0\n",
    "    \n",
    "    leaders = {}\n",
    "\n",
    "    for i in f_order:\n",
    "        if explored[i] == False:\n",
    "\n",
    "            source = i\n",
    "            leaders[source] = []\n",
    "\n",
    "            nodeStack = Stack()\n",
    "            nodeStack.push(i)\n",
    "            \n",
    "            while nodeStack.length > 0:\n",
    "                \n",
    "                if num_explored // print_cycles > cycle:\n",
    "                    cycle += 1\n",
    "                    completion = (num_explored / num_nodes) * 100\n",
    "                    print(f'progress: {format(completion, \".2f\")}%, nodes: {num_explored}', end='\\r')\n",
    "                \n",
    "                node = nodeStack.get()\n",
    "\n",
    "                if explored[node] == False:\n",
    "                    explored[node] = True\n",
    "                    num_explored += 1\n",
    "                \n",
    "                has_unexplored_children = False\n",
    "                \n",
    "                for child in g[node]:\n",
    "                    if explored[child] == False:\n",
    "                        has_unexplored_children = True\n",
    "\n",
    "                        explored[child] = True\n",
    "                        num_explored += 1\n",
    "                        nodeStack.push(child)\n",
    "                \n",
    "                if not has_unexplored_children:\n",
    "                    leaders[i].append(nodeStack.pop())\n",
    "\n",
    "    completion = (num_explored / num_nodes) * 100\n",
    "    print(f'progress: {format(completion, \".2f\")}%, nodes: {num_explored}', end='\\n')\n",
    "    \n",
    "    return leaders"
   ]
  },
  {
   "cell_type": "code",
   "execution_count": 303,
   "metadata": {},
   "outputs": [
    {
     "name": "stdout",
     "output_type": "stream",
     "text": [
      "progress: 100.00%, nodes: 875714\n"
     ]
    }
   ],
   "source": [
    "leaders = dfs2_loop(g, f_order)"
   ]
  },
  {
   "cell_type": "code",
   "execution_count": 305,
   "metadata": {},
   "outputs": [],
   "source": [
    "sccs = [len(v) for v in leaders.values()]\n",
    "sccs.sort(reverse=True)"
   ]
  },
  {
   "cell_type": "code",
   "execution_count": 307,
   "metadata": {},
   "outputs": [
    {
     "data": {
      "text/plain": [
       "[434821, 968, 459, 313, 211, 205, 197, 177, 162, 152]"
      ]
     },
     "execution_count": 307,
     "metadata": {},
     "output_type": "execute_result"
    }
   ],
   "source": [
    "sccs[0:10]"
   ]
  }
 ],
 "metadata": {
  "kernelspec": {
   "display_name": "Python 3",
   "language": "python",
   "name": "python3"
  },
  "language_info": {
   "codemirror_mode": {
    "name": "ipython",
    "version": 3
   },
   "file_extension": ".py",
   "mimetype": "text/x-python",
   "name": "python",
   "nbconvert_exporter": "python",
   "pygments_lexer": "ipython3",
   "version": "3.11.3"
  },
  "orig_nbformat": 4
 },
 "nbformat": 4,
 "nbformat_minor": 2
}
