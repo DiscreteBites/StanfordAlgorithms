{
 "cells": [
  {
   "cell_type": "markdown",
   "metadata": {},
   "source": [
    "# A Greedy Knapsack Heuristic\n",
    "\n",
    "Motivated by ideal items having big value and small size\n",
    "\n",
    "For $n$ items with values $v_i$ and weight $w_i$\n",
    "\n",
    "Sort by:\n",
    "$$\n",
    "\\frac{v_1}{w_1} \\geq \\frac{v_2}{w_2} \\geq \\frac{v_3}{w_3} \\geq \\cdots \\frac{v_n}{w_n}\n",
    "$$\n",
    "\n",
    "Then pack items in this order until as many items are possible are packed.\n",
    "\n",
    "To deal with edge cases, we return either the solution above, or the maximum value item, whichever is better\n",
    "\n",
    "Note that this is similar in style to the scheduling problem covered in Week 1 of Greedy Algorithms."
   ]
  },
  {
   "cell_type": "markdown",
   "metadata": {},
   "source": [
    "## Performance Guarantee\n",
    "\n",
    "Theorem: the value of this 3-step greedy solution is always $\\geq 50\\%$ of an optimal solution."
   ]
  },
  {
   "cell_type": "markdown",
   "metadata": {},
   "source": [
    "### Greedy Fractional Solution\n",
    "\n",
    "Consider a \"greedy fractional solution\". After arriving at a solution through the greedy heurisitic, take a proportion of the remaining items with fractional weights and proportional values. \n",
    "\n",
    "Claim that the fractional solution is at least as good as every non-fractional feasible solution.\n",
    "\n",
    "1. Let $S=$ an arbitrary feasible solution.\n",
    "\n",
    "2. Suppose $l$ using of knapsack filled by $S$ with items not packed by the greedy fractional solution.\n",
    "\n",
    "3. There mustbe at least $l$ units of knapsack filled by greedy functional solution not packed by $S$.\n",
    "\n",
    "4. By the greedy criterion, items in 3 have larger ratios than those in 2\n",
    "\n",
    "5. total value of greedy fractioanal solution at least that of $S$\n",
    "\n"
   ]
  },
  {
   "cell_type": "markdown",
   "metadata": {},
   "source": [
    "### Analysis of Greedy Heuristic\n",
    "\n",
    "In step 2, suppose the greedy algorithm picks the first $k$ values.\n",
    "\n",
    "Therefore,\n",
    "$$\n",
    "\\text{value of greedy algorihtm} \\geq \\text{total value of} \\; 1^{\\text{st}} \\; k \\; \\text{items}\n",
    "$$\n",
    "And by step 3,\n",
    "$$\n",
    "\\text{value of greedy algorihtm} \\geq \\text{value of} \\; (k+1)^{\\text{th}} \\; \\text{item}\n",
    "$$\n",
    "\n",
    "This implies\n",
    "$$\n",
    "\\begin{aligned}\n",
    "2 \\times \\text{value of greedy algorithm} &\\geq \\text{total value of} \\; 1^{\\text{st}} \\; k+1 \\; \\text{items} \\\\\n",
    "&\\geq \\text{total value of greedy fractional solution} \\\\\n",
    "&\\geq \\text{optimal knapsack problem}\n",
    "\\end{aligned}\n",
    "$$\n",
    "\n",
    "Therefore\n",
    "$$\n",
    "\\text{value of greedy algorithm} \\geq \\frac{1}{2} \\;\\text{optimal knapsack problem}\n",
    "$$\n"
   ]
  },
  {
   "cell_type": "markdown",
   "metadata": {},
   "source": [
    "### Special Cases\n",
    "\n",
    "Suppose: every item $i$ has size $w_i \\leq 10\\%$ of knapsack capacity $W$. The consequence of this is that when the algorithm halts, the knapsack is more than $90\\%$ full.\n",
    "$$\n",
    "\\begin{aligned}\n",
    "\\implies \\text{value of greedy algorithm} &\\geq 90\\% \\; \\text{greedy fractional solution} \\\\\n",
    "&\\geq 90\\% \\; \\text{optimal knapsack problem}\n",
    "\\end{aligned}\n",
    "$$"
   ]
  },
  {
   "cell_type": "markdown",
   "metadata": {},
   "source": [
    "# A Dynamic Programming Heuristic for Knapsack\n",
    "\n",
    "We aim to let the user specify a paramter $\\epsilon > 0$ such that the algorithm garuntees a $(1 - \\epsilon)$ approximation.\n",
    "\n",
    "As $\\epsilon$ decreases, we expect the running time to increase"
   ]
  },
  {
   "cell_type": "markdown",
   "metadata": {},
   "source": [
    "## High Level Idea\n",
    "\n",
    "We can try to solve a slightly incorrect bu easier knapsack instance.\n",
    "\n",
    "Recall that is $w_i$ and $W$ are integers, the knapsack problem can be solved via dynamic programming in $O(nW)$ time.\n",
    "\n",
    "Alternatively, if $v_i$ are integers, we can solve knapsack via dynamic programming in $O(n^2v_{max})$ time where $v_{max} = \\max_{i}{v_i}$\n",
    "\n",
    "Plan: throw out lower-order bits of the $v_i$"
   ]
  },
  {
   "cell_type": "markdown",
   "metadata": {},
   "source": [
    "## Algorithm\n",
    "\n",
    "1. Round each $v_i$ down to the nearest multiple of $m$ where $m$ depends on $\\epsilon$\n",
    "2. Divide the results by $m$ to get $\\hat{v}_{i}$\n",
    "$$\n",
    "\\hat{v}_{i} = \\left\\lfloor \\frac{v_i}{m} \\right\\rfloor\n",
    "$$\n",
    "\n",
    "3. Use dynamic programming to solve the knapsack instance with values $\\hat{v}_{i}$"
   ]
  },
  {
   "cell_type": "markdown",
   "metadata": {},
   "source": [
    "## Knapsack when $v \\in \\mathbb{Z}$\n",
    "\n",
    "We will assume that all $v_i$ are integers. This aims give an algorithm that gives a running time of\n",
    "$$\n",
    "O(n^2v_{max})\n",
    "$$"
   ]
  },
  {
   "cell_type": "markdown",
   "metadata": {},
   "source": [
    "### Subproblem and Recurrence\n",
    "\n",
    "For $i=0, 1, 2, \\cdots, n$ and $x=0, 1, 2, \\cdots, n \\cdot v_{max}$:\n",
    "\n",
    "Define $S_{i, x}$ = minimum total size required to achieve value $\\geq x$ while using only the first $i$ items, or $+\\infty$ if its impossible\n",
    "\n",
    "Then,\n",
    "$$\n",
    "S_{i, x} = \\min\\begin{cases}\n",
    "S_{(i-1), x} & \\text{Case 1: item} \\; i \\; \\text{not used} \\\\\n",
    "w_i + S_{(i-1), (x - v_i)} & \\text{Case 2: item} \\; i \\; \\text{used}\n",
    "\\end{cases}\n",
    "$$\n",
    "\n",
    "Similarly if $v_i \\geq x$\n",
    "$$\n",
    "S_{k, (x - v_i)} = 0\n",
    "$$\n",
    "\n",
    "```\n",
    "Let A = 2D array\n",
    "\n",
    "A[0, 0] = 0\n",
    "A[0, x] = + inf\n",
    "\n",
    "For i = 0 to n:\n",
    "    For x = 0 to n x vmax:\n",
    "\n",
    "        A[i,x] = min(\n",
    "            A[i-1, x]\n",
    "            w_i + A[i-1, x - v_i]\n",
    "        )\n",
    "\n",
    "Return the largest X such that A[n, x] <= W\n",
    "```"
   ]
  },
  {
   "cell_type": "markdown",
   "metadata": {},
   "source": [
    "## Analysis of Dynamic Programming Heurisitc\n",
    "\n",
    "Suppose we round $v_i$ to the value $\\hat{v}_{i}$. Then\n",
    "$$\n",
    "v_i -m \\leq m \\times \\hat{v}_{i} \\leq v_i\n",
    "$$\n",
    "\n",
    "Let $S^*$ be the optimal solution and $S$ be the heuristic solution. Then\n",
    "$$\n",
    "\\sum_{i \\in S}{\\hat{v}_{i}} \\geq \\sum_{i \\in S^*}{\\hat{v}_{i}}\n",
    "$$\n",
    "Since $S$ is optimal only for $\\hat{v}_{i}$.\n",
    "\n",
    "Applying the inequalities to get a lower bound for the heuristic score\n",
    "$$\n",
    "\\begin{aligned}\n",
    "\\sum_{i \\in S}{\\hat{v}_{i}} &\\geq \\sum_{i \\in S^*}{\\hat{v}_{i}} \\\\[10pt]\n",
    "m\\sum_{i \\in S}{\\hat{v}_{i}} &\\geq m\\sum_{i \\in S^*}{\\hat{v}_{i}} \\\\[10pt]\n",
    "\\sum_{i \\in S}{v_i} \\geq m\\sum_{i \\in S}{\\hat{v}_{i}} &\\geq m\\sum_{i \\in S^*}{\\hat{v}_{i}} \\geq \\sum_{i \\in S^*}{(v_i - m)} \\\\[10pt]\n",
    "\\sum_{i \\in S}{v_i} &\\geq \\sum_{i \\in S^*}{v_i} - m \\times \\lvert S^* \\rvert \\\\[10pt]\n",
    "&\\geq \\sum_{i \\in S^*}{v_i} - mn\n",
    "\\end{aligned}\n",
    "$$\n",
    "\n",
    "Considering that we need\n",
    "$$\n",
    "\\sum_{i \\in S}{v_i} \\geq (1-\\epsilon)\\sum_{i \\in S^*}{v_i} \\\\[10pt]\n",
    "\\implies \\sum_{i \\in S^*}{v_i} - mn \\geq \\sum_{i \\in S^*}{v_i} - \\epsilon\\sum_{i \\in S^*}{v_i} \\\\[10pt]\n",
    "\\implies \\epsilon\\sum_{i \\in S^*}{v_i} \\geq mn\n",
    "$$\n",
    "\n",
    "It would be sufficient to set\n",
    "$$\n",
    "mn = \\epsilon v_{max} \\\\[10pt]\n",
    "\\implies m = \\frac{\\epsilon v_{max}}{n}\n",
    "$$"
   ]
  },
  {
   "cell_type": "markdown",
   "metadata": {},
   "source": [
    "## Running Time Analysis\n",
    "\n",
    "We apply this bound for $m$ to the running time of $O(n^2\\hat{v}_{max})$\n",
    "\n",
    "$$\n",
    "\\hat{v}_{max} \\leq \\frac{v_{max}}{m} = v_{max} \\times \\frac{n}{\\epsilon v_{max}} = \\frac{n}{\\epsilon} \n",
    "$$\n",
    "\n",
    "Therefore the running time is bounded by\n",
    "$$\n",
    "O\\left(\\frac{n^3}{\\epsilon}\\right)\n",
    "$$"
   ]
  },
  {
   "cell_type": "markdown",
   "metadata": {},
   "source": [
    "# Programming Assingment"
   ]
  },
  {
   "cell_type": "markdown",
   "metadata": {},
   "source": [
    "## 1\n",
    "\n",
    "In this assignment we will revisit an old friend, the traveling salesman problem (TSP). This week you will implement a heuristic for the TSP, rather than an exact algorithm, and as a result will be able to handle much larger problem sizes.\n",
    "\n",
    "Here is a data file \"Week 3 nn.txt\" describing a TSP instance [original source](http://www.math.uwaterloo.ca/tsp/world/bm33708.tsp).\n",
    "\n",
    "The first line indicates the number of cities. Each city is a point in the plane, and each subsequent line indicates the $x$ and $y$ coordinates of a single city.\n",
    "\n",
    "The distance between two cities is defined as the Euclidean distance --- that is, two cities at locations $(x,y)$ and $(z,w)$ have distance \n",
    "$$\n",
    "\\sqrt{(x-z)^2 + (y-w)^2}\n",
    "$$\n",
    "​\n",
    "between them.\n",
    "\n",
    "You should implement the nearest neighbor heuristic:\n",
    "\n",
    "1. Start the tour at the first city. \n",
    "2. Repeatedly visit the closest city that the tour hasn't visited yet. \n",
    "    - In case of a tie, go to the closest city with the lowest index. \n",
    "\n",
    "    - For example, if both the third and fifth cities have the same distance from the first city (and are closer than any other city), then the tour should begin by going from the first city to the third city. \n",
    "\n",
    "3. Once every city has been visited exactly once, return to the first city to complete the tour. \n",
    "\n",
    "In the box below, enter the cost of the traveling salesman tour computed by the nearest neighbor heuristic for this instance, rounded down to the nearest integer.\n",
    "\n",
    "[Hint: when constructing the tour, you might find it simpler to work with squared Euclidean distances (i.e., the formula above but without the square root) than Euclidean distances.  But don't forget to report the length of the tour in terms of standard Euclidean distance.]"
   ]
  },
  {
   "cell_type": "code",
   "execution_count": 2,
   "metadata": {},
   "outputs": [],
   "source": [
    "import numpy as np\n",
    "\n",
    "def load_data():\n",
    "    with open('Week 3 nn.txt') as f:\n",
    "        num_cities = next(f)\n",
    "        return int(num_cities), [\n",
    "            [float(x) for x in coord.split(\" \")][1:]\n",
    "            for coord in f\n",
    "        ]"
   ]
  },
  {
   "cell_type": "code",
   "execution_count": 3,
   "metadata": {},
   "outputs": [],
   "source": [
    "import matplotlib.pyplot as plt\n",
    "\n",
    "def plot(coords, edges=[]):\n",
    "    fig, ax = plt.subplots()\n",
    "    \n",
    "    x = [coord[0] for coord in coords]\n",
    "    y = [coord[1] for coord in coords]\n",
    "\n",
    "    for edge in edges:\n",
    "        pt1, pt2 = edge\n",
    "        ax.plot(pt1, pt2, color='orange')\n",
    "        \n",
    "    ax.scatter(x, y)"
   ]
  },
  {
   "cell_type": "code",
   "execution_count": 4,
   "metadata": {},
   "outputs": [
    {
     "data": {
      "image/png": "[encoded data removed]",
      "text/plain": [
       "<Figure size 640x480 with 1 Axes>"
      ]
     },
     "metadata": {},
     "output_type": "display_data"
    }
   ],
   "source": [
    "num_cities, coords = load_data()\n",
    "plot(coords)"
   ]
  },
  {
   "cell_type": "code",
   "execution_count": 14,
   "metadata": {},
   "outputs": [],
   "source": [
    "class Node:\n",
    "    def __init__(self, data):\n",
    "        self.data = data\n",
    "        self.next: 'Node' | None = None\n",
    "        self.prev: 'Node' | None = None\n",
    "    \n",
    "    def __repr__(self):\n",
    "        return repr(self.data)\n",
    "    \n",
    "class DoublyLinkedList:\n",
    "    def __init__(self, nodes: list | None =None):\n",
    "        self.head = None\n",
    "\n",
    "        if nodes is not None:\n",
    "            node = Node(data=nodes[0])\n",
    "            self.head = node\n",
    "            \n",
    "            for elm in nodes[1:]:\n",
    "                new_node = Node(data=elm)\n",
    "\n",
    "                node.next = new_node\n",
    "                new_node.prev = node\n",
    "\n",
    "                node = node.next\n",
    "    \n",
    "        return\n",
    "    \n",
    "    def __repr__(self):\n",
    "        node = self.head\n",
    "        nodes = []\n",
    "\n",
    "        while node is not None:\n",
    "            nodes.append(repr(node.data))\n",
    "            node = node.next\n",
    "        nodes.append(\"\")\n",
    "\n",
    "        return \"\\n-> \".join(nodes)\n",
    "    \n",
    "    def __iter__(self):\n",
    "        node = self.head\n",
    "        while node is not None:\n",
    "            yield node\n",
    "            node = node.next\n",
    "\n",
    "\n",
    "    def delete(self, node: 'Node'):\n",
    "        \n",
    "        next = node.next\n",
    "        prev = node.prev\n",
    "\n",
    "        if node == self.head:\n",
    "            self.head = next\n",
    "        \n",
    "        if prev is not None:\n",
    "            prev.next = next\n",
    "        if next is not None:\n",
    "            next.prev = prev\n",
    "\n",
    "        return"
   ]
  },
  {
   "cell_type": "code",
   "execution_count": 94,
   "metadata": {},
   "outputs": [],
   "source": [
    "import math\n",
    "\n",
    "def tspHeuristic(num_cities, coords: list):\n",
    "    \n",
    "    progressCounter = 0\n",
    "\n",
    "    # set up linked list for constant time deletion\n",
    "    linkedList = DoublyLinkedList(coords)\n",
    "    \n",
    "    start = linkedList.head\n",
    "    \n",
    "    total_dist = 0\n",
    "    head = start\n",
    "\n",
    "    while True:\n",
    "        \n",
    "        print(f'{progressCounter} / {num_cities}', end=\"\\r\")\n",
    "        \n",
    "        linkedList.delete(head)\n",
    "        if linkedList.head == None:\n",
    "            break\n",
    "        \n",
    "        curr_closest_dist = np.inf\n",
    "        curr_closest_node = None\n",
    "\n",
    "        for coord in linkedList:\n",
    "            x, y = coord.data\n",
    "            delta_x = x - head.data[0]\n",
    "\n",
    "            if delta_x < -curr_closest_dist:\n",
    "                continue\n",
    "            elif delta_x > curr_closest_dist:\n",
    "                break\n",
    "            \n",
    "            dist = math.sqrt(delta_x**2 + (head.data[1] - y)**2)\n",
    "            \n",
    "            if dist < curr_closest_dist:\n",
    "                curr_closest_node = coord\n",
    "                curr_closest_dist = dist\n",
    "\n",
    "        head = curr_closest_node\n",
    "        progressCounter += 1\n",
    "        total_dist += curr_closest_dist\n",
    "\n",
    "    total_dist += math.sqrt((start.data[0] - head.data[0])**2 + (start.data[1] - head.data[1])**2)\n",
    "\n",
    "    return total_dist"
   ]
  },
  {
   "cell_type": "code",
   "execution_count": 95,
   "metadata": {},
   "outputs": [
    {
     "name": "stdout",
     "output_type": "stream",
     "text": [
      "33707 / 33708\r"
     ]
    },
    {
     "data": {
      "text/plain": [
       "1203406.5012708856"
      ]
     },
     "execution_count": 95,
     "metadata": {},
     "output_type": "execute_result"
    }
   ],
   "source": [
    "tspHeuristic(num_cities, coords)"
   ]
  },
  {
   "cell_type": "code",
   "execution_count": 88,
   "metadata": {},
   "outputs": [],
   "source": [
    "import math\n",
    "import os\n",
    "\n",
    "def test_tsp(filename: str) -> bool: \n",
    "    with open(filename) as f:\n",
    "        num_cities = int(next(f))\n",
    "\n",
    "        coords = []\n",
    "        answer = None\n",
    "        for coord in f:\n",
    "            entries = coord.split(\" \")\n",
    "\n",
    "            if entries[0] == \"//\":\n",
    "                answer = float(entries[1])\n",
    "            else:\n",
    "                coords.append([float(entries[1]), float(entries[2])])\n",
    "    \n",
    "    coords.sort(key= lambda x: x[0])\n",
    "\n",
    "    value = tspHeuristic(num_cities, coords)\n",
    "    passed = math.isclose(value, answer, rel_tol=0.01)\n",
    "\n",
    "    print(\"-----------------\")\n",
    "    print(f'{\"Passed\" if passed else \"FAILED\"}')\n",
    "    print(f\"Output: {value}\")\n",
    "    print(f\"Answer: {answer}\")\n",
    "\n",
    "    return passed\n",
    "\n",
    "def test_all():\n",
    "    grading = {}\n",
    "    for file in os.listdir('Week 3 Tests'):\n",
    "        passed = test_tsp(os.path.join('Week 3 Tests', file))\n",
    "        grading[file] = passed\n",
    "\n",
    "    return grading"
   ]
  },
  {
   "cell_type": "code",
   "execution_count": 96,
   "metadata": {},
   "outputs": [
    {
     "name": "stdout",
     "output_type": "stream",
     "text": [
      "-----------------\n",
      "Passed\n",
      "Output: 22.99408261315316\n",
      "Answer: 23.0\n",
      "-----------------\n",
      "FAILED\n",
      "Output: 7384.978565071086\n",
      "Answer: 7631.0\n",
      "-----------------\n",
      "Passed\n",
      "Output: 21148.888627231227\n",
      "Answer: 21055.0\n",
      "-----------------\n",
      "FAILED\n",
      "Output: 28986.277111127332\n",
      "Answer: 29777.0\n",
      "-----------------\n",
      "Passed\n",
      "Output: 987.4637857818376\n",
      "Answer: 990.0\n",
      "-----------------\n",
      "FAILED\n",
      "Output: 644795.8075607053\n",
      "Answer: 654724.0\n",
      "-----------------\n",
      "Passed\n",
      "Output: 15.23606797749979\n",
      "Answer: 15.2361\n"
     ]
    },
    {
     "data": {
      "text/plain": [
       "{'test1.txt': True,\n",
       " 'test2.txt': False,\n",
       " 'test3.txt': True,\n",
       " 'test4.txt': False,\n",
       " 'test5.txt': True,\n",
       " 'test6.txt': False,\n",
       " 'test7.txt': True}"
      ]
     },
     "execution_count": 96,
     "metadata": {},
     "output_type": "execute_result"
    }
   ],
   "source": [
    "test_all()\n",
    "\n",
    "# since were sorting maybe the breaking ties \n",
    "# via index is causing the difference in score"
   ]
  }
 ],
 "metadata": {
  "kernelspec": {
   "display_name": "Python 3",
   "language": "python",
   "name": "python3"
  },
  "language_info": {
   "codemirror_mode": {
    "name": "ipython",
    "version": 3
   },
   "file_extension": ".py",
   "mimetype": "text/x-python",
   "name": "python",
   "nbconvert_exporter": "python",
   "pygments_lexer": "ipython3",
   "version": "3.11.3"
  },
  "orig_nbformat": 4
 },
 "nbformat": 4,
 "nbformat_minor": 2
}
