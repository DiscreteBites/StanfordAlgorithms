{
 "cells": [
  {
   "cell_type": "markdown",
   "metadata": {},
   "source": [
    "# A Greedy Knapsack Heuristic\n",
    "\n",
    "Motivated by ideal items having big value and small size\n",
    "\n",
    "For $n$ items with values $v_i$ and weight $w_i$\n",
    "\n",
    "Sort by:\n",
    "$$\n",
    "\\frac{v_1}{w_1} \\geq \\frac{v_2}{w_2} \\geq \\frac{v_3}{w_3} \\geq \\cdots \\frac{v_n}{w_n}\n",
    "$$\n",
    "\n",
    "Then pack items in this order until as many items are possible are packed.\n",
    "\n",
    "To deal with edge cases, we return either the solution above, or the maximum value item, whichever is better\n",
    "\n",
    "Note that this is similar in style to the scheduling problem covered in Week 1 of Greedy Algorithms."
   ]
  },
  {
   "cell_type": "markdown",
   "metadata": {},
   "source": [
    "## Performance Guarantee\n",
    "\n",
    "Theorem: the value of this 3-step greedy solution is always $\\geq 50\\%$ of an optimal solution."
   ]
  },
  {
   "cell_type": "markdown",
   "metadata": {},
   "source": [
    "### Greedy Fractional Solution\n",
    "\n",
    "Consider a \"greedy fractional solution\". After arriving at a solution through the greedy heurisitic, take a proportion of the remaining items with fractional weights and proportional values. \n",
    "\n",
    "Claim that the fractional solution is at least as good as every non-fractional feasible solution.\n",
    "\n",
    "1. Let $S=$ an arbitrary feasible solution.\n",
    "\n",
    "2. Suppose $l$ using of knapsack filled by $S$ with items not packed by the greedy fractional solution.\n",
    "\n",
    "3. There mustbe at least $l$ units of knapsack filled by greedy functional solution not packed by $S$.\n",
    "\n",
    "4. By the greedy criterion, items in 3 have larger ratios than those in 2\n",
    "\n",
    "5. total value of greedy fractioanal solution at least that of $S$\n",
    "\n"
   ]
  },
  {
   "cell_type": "markdown",
   "metadata": {},
   "source": [
    "### Analysis of Greedy Heuristic\n",
    "\n",
    "In step 2, suppose the greedy algorithm picks the first $k$ values.\n",
    "\n",
    "Therefore,\n",
    "$$\n",
    "\\text{value of greedy algorihtm} \\geq \\text{total value of} \\; 1^{\\text{st}} \\; k \\; \\text{items}\n",
    "$$\n",
    "And by step 3,\n",
    "$$\n",
    "\\text{value of greedy algorihtm} \\geq \\text{value of} \\; (k+1)^{\\text{th}} \\; \\text{item}\n",
    "$$\n",
    "\n",
    "This implies\n",
    "$$\n",
    "\\begin{aligned}\n",
    "2 \\times \\text{value of greedy algorithm} &\\geq \\text{total value of} \\; 1^{\\text{st}} \\; k+1 \\; \\text{items} \\\\\n",
    "&\\geq \\text{total value of greedy fractional solution} \\\\\n",
    "&\\geq \\text{optimal knapsack problem}\n",
    "\\end{aligned}\n",
    "$$\n",
    "\n",
    "Therefore\n",
    "$$\n",
    "\\text{value of greedy algorithm} \\geq \\frac{1}{2} \\;\\text{optimal knapsack problem}\n",
    "$$\n"
   ]
  },
  {
   "cell_type": "markdown",
   "metadata": {},
   "source": [
    "### Special Cases\n",
    "\n",
    "Suppose: every item $i$ has size $w_i \\leq 10\\%$ of knapsack capacity $W$. The consequence of this is that when the algorithm halts, the knapsack is more than $90\\%$ full.\n",
    "$$\n",
    "\\begin{aligned}\n",
    "\\implies \\text{value of greedy algorithm} &\\geq 90\\% \\; \\text{greedy fractional solution} \\\\\n",
    "&\\geq 90\\% \\; \\text{optimal knapsack problem}\n",
    "\\end{aligned}\n",
    "$$"
   ]
  },
  {
   "cell_type": "markdown",
   "metadata": {},
   "source": [
    "# A Dynamic Programming Heuristic for Knapsack\n",
    "\n",
    "We aim to let the user specify a paramter $\\epsilon > 0$ such that the algorithm garuntees a $(1 - \\epsilon)$ approximation.\n",
    "\n",
    "As $\\epsilon$ decreases, we expect the running time to increase"
   ]
  },
  {
   "cell_type": "markdown",
   "metadata": {},
   "source": [
    "## High Level Idea\n",
    "\n",
    "We can try to solve a slightly incorrect bu easier knapsack instance.\n",
    "\n",
    "Recall that is $w_i$ and $W$ are integers, the knapsack problem can be solved via dynamic programming in $O(nW)$ time.\n",
    "\n",
    "Alternatively, if $v_i$ are integers, we can solve knapsack via dynamic programming in $O(n^2v_{max})$ time where $v_{max} = \\max_{i}{v_i}$\n",
    "\n",
    "Plan: throw out lower-order bits of the $v_i$"
   ]
  },
  {
   "cell_type": "markdown",
   "metadata": {},
   "source": [
    "## Algorithm\n",
    "\n",
    "1. Round each $v_i$ down to the nearest multiple of $m$ where $m$ depends on $\\epsilon$\n",
    "2. Divide the results by $m$ to get $\\hat{v}_{i}$\n",
    "$$\n",
    "\\hat{v}_{i} = \\left\\lfloor \\frac{v_i}{m} \\right\\rfloor\n",
    "$$\n",
    "\n",
    "3. Use dynamic programming to solve the knapsack instance with values $\\hat{v}_{i}$"
   ]
  },
  {
   "cell_type": "markdown",
   "metadata": {},
   "source": [
    "## Knapsack when $v \\in \\mathbb{Z}$\n",
    "\n",
    "We will assume that all $v_i$ are integers. This aims give an algorithm that gives a running time of\n",
    "$$\n",
    "O(n^2v_{max})\n",
    "$$"
   ]
  },
  {
   "cell_type": "markdown",
   "metadata": {},
   "source": [
    "### Subproblem and Recurrence\n",
    "\n",
    "For $i=0, 1, 2, \\cdots, n$ and $x=0, 1, 2, \\cdots, n \\cdot v_{max}$:\n",
    "\n",
    "Define $S_{i, x}$ = minimum total size required to achieve value $\\geq x$ while using only the first $i$ items, or $+\\infty$ if its impossible\n",
    "\n",
    "Then,\n",
    "$$\n",
    "S_{i, x} = \\min\\begin{cases}\n",
    "S_{(i-1), x} & \\text{Case 1: item} \\; i \\; \\text{not used} \\\\\n",
    "w_i + S_{(i-1), (x - v_i)} & \\text{Case 2: item} \\; i \\; \\text{used}\n",
    "\\end{cases}\n",
    "$$\n",
    "\n",
    "Similarly if $v_i \\geq x$\n",
    "$$\n",
    "S_{k, (x - v_i)} = 0\n",
    "$$\n",
    "\n",
    "```\n",
    "Let A = 2D array\n",
    "\n",
    "A[0, 0] = 0\n",
    "A[0, x] = + inf\n",
    "\n",
    "For i = 0 to n:\n",
    "    For x = 0 to n x vmax:\n",
    "\n",
    "        A[i,x] = min(\n",
    "            A[i-1, x]\n",
    "            w_i + A[i-1, x - v_i]\n",
    "        )\n",
    "\n",
    "Return the largest X such that A[n, x] <= W\n",
    "```"
   ]
  },
  {
   "cell_type": "markdown",
   "metadata": {},
   "source": [
    "## Analysis of Dynamic Programming Heurisitc\n",
    "\n",
    "Suppose we round $v_i$ to the value $\\hat{v}_{i}$. Then\n",
    "$$\n",
    "v_i -m \\leq m \\times \\hat{v}_{i} \\leq v_i\n",
    "$$\n",
    "\n",
    "Let $S^*$ be the optimal solution and $S$ be the heuristic solution. Then\n",
    "$$\n",
    "\\sum_{i \\in S}{\\hat{v}_{i}} \\geq \\sum_{i \\in S^*}{\\hat{v}_{i}}\n",
    "$$\n",
    "Since $S$ is optimal only for $\\hat{v}_{i}$.\n",
    "\n",
    "Applying the inequalities to get a lower bound for the heuristic score\n",
    "$$\n",
    "\\begin{aligned}\n",
    "\\sum_{i \\in S}{\\hat{v}_{i}} &\\geq \\sum_{i \\in S^*}{\\hat{v}_{i}} \\\\[10pt]\n",
    "m\\sum_{i \\in S}{\\hat{v}_{i}} &\\geq m\\sum_{i \\in S^*}{\\hat{v}_{i}} \\\\[10pt]\n",
    "\\sum_{i \\in S}{v_i} \\geq m\\sum_{i \\in S}{\\hat{v}_{i}} &\\geq m\\sum_{i \\in S^*}{\\hat{v}_{i}} \\geq \\sum_{i \\in S^*}{(v_i - m)} \\\\[10pt]\n",
    "\\sum_{i \\in S}{v_i} &\\geq \\sum_{i \\in S^*}{v_i} - m \\times \\lvert S^* \\rvert \\\\[10pt]\n",
    "&\\geq \\sum_{i \\in S^*}{v_i} - mn\n",
    "\\end{aligned}\n",
    "$$\n",
    "\n",
    "Considering that we need\n",
    "$$\n",
    "\\sum_{i \\in S}{v_i} \\geq (1-\\epsilon)\\sum_{i \\in S^*}{v_i} \\\\[10pt]\n",
    "\\implies \\sum_{i \\in S^*}{v_i} - mn \\geq \\sum_{i \\in S^*}{v_i} - \\epsilon\\sum_{i \\in S^*}{v_i} \\\\[10pt]\n",
    "\\implies \\epsilon\\sum_{i \\in S^*}{v_i} \\geq mn\n",
    "$$\n",
    "\n",
    "It would be sufficient to set\n",
    "$$\n",
    "mn = \\epsilon v_{max} \\\\[10pt]\n",
    "\\implies m = \\frac{\\epsilon v_{max}}{n}\n",
    "$$"
   ]
  },
  {
   "cell_type": "markdown",
   "metadata": {},
   "source": [
    "## Running Time Analysis\n",
    "\n",
    "We apply this bound for $m$ to the running time of $O(n^2\\hat{v}_{max})$\n",
    "\n",
    "$$\n",
    "\\hat{v}_{max} \\leq \\frac{v_{max}}{m} = v_{max} \\times \\frac{n}{\\epsilon v_{max}} = \\frac{n}{\\epsilon} \n",
    "$$\n",
    "\n",
    "Therefore the running time is bounded by\n",
    "$$\n",
    "O\\left(\\frac{n^3}{\\epsilon}\\right)\n",
    "$$"
   ]
  }
 ],
 "metadata": {
  "language_info": {
   "name": "python"
  },
  "orig_nbformat": 4
 },
 "nbformat": 4,
 "nbformat_minor": 2
}
