{
 "cells": [
  {
   "attachments": {},
   "cell_type": "markdown",
   "metadata": {},
   "source": [
    "# Bellman-Ford Algorithm\n",
    "\n",
    "Given a directed graph $G=(V,E)$ with edges lengths $c_e$ and a source vertex $s$\n",
    "\n",
    "Compute the length of the shortest $s-v$ path for every other vertex in the graph."
   ]
  },
  {
   "attachments": {},
   "cell_type": "markdown",
   "metadata": {},
   "source": [
    "## On Negative Cycles\n",
    "\n",
    "When a cycle of edges in a graph has a negative total sum, the shortest path can be indefinately decremented by going one more loop around it. \n",
    "\n",
    "This invalidates the goal of the algorithm.\n",
    "\n",
    "On solution is to compute the shortest cycle free path i.e; exclude any cycles. This however, is an NP-hard problem and there are no polynomial algorihtms.\n",
    "\n",
    "Moving foward, the bellman-ford algorithm will assume that there are no negative cycles. Furthermore, the bellman-ford algorithm is able to quickly check if there is a negative cycle."
   ]
  },
  {
   "attachments": {},
   "cell_type": "markdown",
   "metadata": {},
   "source": [
    "## Optimal Substructure\n",
    "\n",
    "The key idea is to artificially restrict the number of edges in a path. Such that smaller subproblems relate to paths with fewer edges.\n",
    "\n",
    "Let $G = (V, E)$ be a directed graph with edge lengths $c_e$ and source vertex $s$.\n",
    "\n",
    "For every $v \\in V$ and $i \\in \\{1, 2, 3, \\cdots \\}$, define\n",
    "$$\n",
    "p_{i,v} = \\text{shortest} \\; s \\rightarrow v \\; \\text{path with at most} \\; i \\; \\text{edges}\n",
    "$$\n",
    "\n",
    "Case 1:\n",
    "\n",
    "if $p_{i,v}$ has less than $i-1$ edges, then it is the shortest $s \\rightarrow v$ path.\n",
    "\n",
    "Case 2:\n",
    "\n",
    "if $p_{i,v}$ has $i$ edges. Consider the last hop $w \\rightarrow v$. Then $p_{i-1, w}$ is a shortest path.\n",
    "\n",
    "With these two cases we can develop a recurrence. Let $L_{i, v}$ be the minminum length of a $s \\rightarrow v$ path with $\\leq i$ edges\n",
    "\n",
    "For every $v \\in V$, $i \\in \\{1, 2, 3, \\cdots\\}$\n",
    "$$\n",
    "L_{i,v} = \\min\n",
    "\\begin{cases}\n",
    "L_{(i-1), v} \\\\\n",
    "\\min\\limits_{(w, v) \\in E}{(L_{(i-1, w)} + c_{(w,v)})}\n",
    "\\end{cases}\n",
    "$$\n",
    "\n",
    "Suppose an input graph does not have any negative cycles. Then the shortst paths will not have any cycles, and the longest shortest path will be $\\leq (n-1)$ edges. Therefore, we only need to solve subproblems up to $i = n-1$\n",
    "\n",
    "Therefore the subproblem space is\n",
    "$$\n",
    "i \\in \\{1, 2, \\cdots, n-1\\} \\\\\n",
    "v \\in V\n",
    "$$"
   ]
  },
  {
   "attachments": {},
   "cell_type": "markdown",
   "metadata": {},
   "source": [
    "## Psuedocode\n",
    "\n",
    "```\n",
    "Let A = 2D array\n",
    "\n",
    "A[0, s] = 0\n",
    "A[0, v] = +inf for all v != s\n",
    "\n",
    "for i= 1 to n-1:\n",
    "    for each v in V:\n",
    "\n",
    "        A[i, v] = min(\n",
    "            A[i-1, v]\n",
    "\n",
    "            min over edges (w, v)(\n",
    "                A[i-1, w] + c_wv\n",
    "            )\n",
    "        )\n",
    "```\n",
    "\n",
    "Running time is $O(mn)$. Note that for sparse graphs $m = O(n)$ and for dense graphs $m = O(n^2)$. This aligns with our intution that the running time should be somewhere between $O(n^2)$ and $O(n^3)$"
   ]
  },
  {
   "attachments": {},
   "cell_type": "markdown",
   "metadata": {},
   "source": [
    "## Checking for Negative Cycles\n",
    "\n",
    "We claim that after running the Bellman-Ford algorithm for 1 more $n^{th}$ iteration,\n",
    "$$\n",
    "G \\; \\text{has no negative cycles} \\iff A[n-1, v] = A[n, v] \\quad \\forall v \\in V\n",
    "$$\n",
    "\n",
    "Proof:\n",
    "\n",
    "The forward direction follows from the proof of correctness of the Bellman-Ford algorithm. \n",
    "\n",
    "For the reverse direction, assume\n",
    "$$\n",
    "A[n-1, v] = A[n, v] \\quad \\forall v \\in V\n",
    "$$\n",
    "\n",
    "Let $d(v)$ denote the common value of $A[n-1, v]$ and $A[n, v]$. This indicates that\n",
    "$$\n",
    "d(v) \\leq d(w) + c_{w,v} \\quad \\forall (w, v) \\in E\n",
    "$$\n",
    "\n",
    "Consider an arbitrary cycle $C$\n",
    "$$\n",
    "\\sum_{(w,v) \\in C}{c_{w, v}} \\geq \\sum_{(w,v) \\in C}{d(v) - d(w)} = 0\n",
    "$$\n",
    "\n",
    "Therefore the cycles must have positive overall sum."
   ]
  },
  {
   "attachments": {},
   "cell_type": "markdown",
   "metadata": {},
   "source": [
    "## Optimisations\n",
    "\n",
    "1. Stop early\n",
    "\n",
    "If at some iteration $j < n-1$\n",
    "$$\n",
    "A[j, v] = A[j-1, v] \\quad \\forall v \\in V\n",
    "$$\n",
    "Then we can stop the algorithm early as it will only continue to further inherit previous values till completion\n",
    "\n",
    "2. Space Optimisation\n",
    "\n",
    "We only need to store the previous array values for the next array. However, in order to maintain information regarding the paths themselves, we will need to store at each vertex a predecessor pointer. Let\n",
    "$$\n",
    "B[i, v] = 2^{nd} \\; \\text{to last vertex on the shortest} \\; s \\rightarrow v \\text{path}\n",
    "$$\n",
    "Then, we need only to hop through $B$ values to reconstruct the shortest paths.\n",
    "\n",
    "To reconstruct a negative cost cycles, we can use depth-first search to check for a cycle of predecessor pointers after each round.\n"
   ]
  },
  {
   "attachments": {},
   "cell_type": "markdown",
   "metadata": {},
   "source": [
    "## Creating a routing protocol\n",
    "\n",
    "1. Switch from source-driven to destination-driven\n",
    "\n",
    "Every vertex $v$ stores shortest-path distances from $v$ to any relevant destination $t$ and the first hop of a shortest path.\n",
    "\n",
    "2. Handling Asynchrony\n",
    "\n",
    "We cannot assume all $A[i-1, v]$ get computed before all $A[i, v]$. We can switch from a \"pull-based\" to a \"push-based\" approach. Where each node broadcasts it's connectivity information to all of its neighbours. This works only for static networks and may require up to exponential time for all broadcasts to complete accurately.\n",
    "\n",
    "3. Handling Failures\n",
    "\n",
    "In practical applications, links or edges fail all the time. A failure in a link may cause nodes to reference each other in a loop leading to runaway shortest path counts.\n",
    "\n",
    "To fix this, we can shift from a distance vector protocol to a path vector protocol where each node $v$ maintains the entire shortest path to the destination, not just the next hop."
   ]
  },
  {
   "attachments": {},
   "cell_type": "markdown",
   "metadata": {},
   "source": [
    "# All Pairs Shortest Path\n",
    "\n",
    "Given a directed graph $G=(V,E)$ with edge costs $c_e$ for each edge\n",
    "\n",
    "Compute the length of a shortest $u \\rightarrow v$ path for all pairs of vertices $u, v \\in V$ OR report that $G$ contains a negative cycle"
   ]
  },
  {
   "attachments": {},
   "cell_type": "markdown",
   "metadata": {},
   "source": [
    "## Applying known algorithms\n",
    "\n",
    "We can use a single-source shortest path subroutine $n$ times.\n",
    "$$\n",
    "n\\text{-Dijkstra} = O(nm\\log{n}) = \\begin{cases}\n",
    "O(n^2\\log{n}) & \\text{for spare graphs} \\\\\n",
    "O(n^3\\log{n}) & \\text{for dense graphs}\n",
    "\\end{cases} \\\\[20pt]\n",
    "n\\text{-Bellman-Ford} = O(n^2m) = \\begin{cases}\n",
    "O(n^3) & \\text{for spare graphs} \\\\\n",
    "O(n^4) & \\text{for dense graphs}\n",
    "\\end{cases}\n",
    "$$"
   ]
  },
  {
   "attachments": {},
   "cell_type": "markdown",
   "metadata": {},
   "source": [
    "## Floyd-Warshall algorithm\n",
    "\n",
    "A $O(n^3)$ algorithm that works with negative edge lengths. "
   ]
  },
  {
   "attachments": {},
   "cell_type": "markdown",
   "metadata": {},
   "source": [
    "### Optimal Substructure\n",
    "\n",
    "Impose an arbitrary ordering on the vertices. \n",
    "\n",
    "Let $V^{(k)} = \\{1, 2, 3, \\cdots, k\\}$\n",
    "\n",
    "Suppose $G$ has no negative cycle. Fix a source $i \\in V$ and destination $j \\in V$ and $k \\in \\{1, 2, 3, \\cdots, k\\}$. Let $P=$ shortest cycle free $i \\rightarrow j$ path with all internal nodes in $V^{(k)}$\n",
    "\n",
    "Case 1: if $k$ is not internal to $P$, then $P$ is a shortest cycle free $i \\rightarrow j$ path with all internal vertices in $V^{(k-1)}$\n",
    "\n",
    "Case 2: if $k$ is internal to $P$, then we can split $P$ into two parts $P_1$ and $P_2$ such that \n",
    "$$\n",
    "\\fbox{i} \\underset{P_1}{\\rightarrow} \\fbox{k} \\underset{P_2}{\\rightarrow} \\fbox{j}\n",
    "$$\n",
    "\n",
    "then,\n",
    "\n",
    "$P_1=$ shortest cycle free $i \\rightarrow k$ path with all internal nodes in $V^{(k-1)}$\n",
    "\n",
    "$P_2=$ shortest cycle free $k \\rightarrow j$ path with all internal nodes in $V^{(k-1)}$\n",
    "\n",
    "Let $P_{i, j, k}$ be the length of the shortest path from $i$ to $j$ using only intermediate notes from the set $\\{1, 2, \\cdots, k\\}$. Then\n",
    "\n",
    "$$\n",
    "P_{i, j, k} = \\min\\begin{cases}\n",
    "P_{i, j, k-1} \\\\\n",
    "P_{i, k, k-1} + P_{k, j, k-1}\n",
    "\\end{cases}\n",
    "$$"
   ]
  },
  {
   "attachments": {},
   "cell_type": "markdown",
   "metadata": {},
   "source": [
    "### Pseudocode\n",
    "\n",
    "Let A = 3D array indexed by $i, j, k$\n",
    "\n",
    "Initialise\n",
    "\n",
    "For all $i, j \\in V$:\n",
    "$$\n",
    "A_{i, j, 0} = \\begin{cases}\n",
    "0 & \\text{if} \\; i = j \\\\\n",
    "c_{i,j} & \\text{if} \\; (i,j) \\in E \\\\\n",
    "+ \\infty & \\text{if} \\; i \\neq j \\wedge (i,j) \\notin E\n",
    "\\end{cases}\n",
    "$$\n",
    "\n",
    "```\n",
    "For k = 1 to n:\n",
    "    For i = 1 to n:\n",
    "        For j = 1 to n:\n",
    "\n",
    "            A[i,j,k] = min(\n",
    "                A[i, j, k-1],\n",
    "                A[i, k, k-1] + A[k, j, k-1]\n",
    "            )\n",
    "```"
   ]
  },
  {
   "attachments": {},
   "cell_type": "markdown",
   "metadata": {},
   "source": [
    "### Dealing with negative cycles\n",
    "\n",
    "We only need to look at the diagonal of the $A$ array to determine if there exists a negative cost cycle. That is\n",
    "$$\n",
    "\\exists \\; A[i,i,n] < 0 \\implies \\text{negative cost cycle}\n",
    "$$\n",
    "\n",
    "Typically, the diagonals should be all $0$ as initialised. Assume there is a negative cost cycle, whose length is $r$. Then at the point at the iteration where $k=r$. For each iteration of $i$ when $j=i$, there will exist a pair of paths leading from $i \\rightarrow r$ and $r \\rightarrow j$ such that \n",
    "$$\n",
    "A[i, r, r-1] + A[r, i, r-1] \\leq 0\n",
    "$$\n",
    "\n",
    "This would be less than the base case of $0$, and be placed into the array."
   ]
  },
  {
   "attachments": {},
   "cell_type": "markdown",
   "metadata": {},
   "source": [
    "### Reconstructing a shortest path\n",
    "\n",
    "In addition to $A$, we keep track of \n",
    "$$\n",
    "B[i,j] = \\text{max label of an internal node on a shortest} \\; i \\rightarrow j \\; \\text{path}\n",
    "$$\n",
    "\n",
    "Set $B[i,j] = k$ if the second case of the recurrence is used to compute $A[i,j,k]$\n",
    "\n",
    "Then to reconstruct,\n",
    "1. start from $i, j$\n",
    "2. $k = B[i, j]$\n",
    "3. Lookup $k_1 = B[i, k]$ and $k_2 = B[k, j]$\n",
    "4. Repeat"
   ]
  },
  {
   "attachments": {},
   "cell_type": "markdown",
   "metadata": {},
   "source": [
    "## Johnsons Algorithm\n",
    "\n",
    "Recall that we can reduce APSP to $n$ incovations of SSSP\n",
    "- $O(mn\\log{n})$ for non negative edge lenghts via Dijkstra\n",
    "- $O(mn^2)$ for general edge lengths via Bellman-Ford\n",
    "\n",
    "Johnsons algorithm provides a way to reduce APSP to 1 invocation of Bellman-Ford followed by $n$ inovations fo Dijkstra - reducing the running time to\n",
    "$$\n",
    "O(mn) + O(mn\\log{n}) = O(mn\\log{n})\n",
    "$$"
   ]
  },
  {
   "attachments": {},
   "cell_type": "markdown",
   "metadata": {},
   "source": [
    "### Reweighting Transformation\n",
    "\n",
    "For each edge $e = (u,v) \\in E$, let the transformed edge $c^{\\prime}_{e}$ be\n",
    "$$\n",
    "c^{\\prime}_{e} = c_e + p_u - p_v\n",
    "$$\n",
    "Where $p_i$ are arbitrary weights assocaited with each node in the graph. \n",
    "\n",
    "This acts in a telescoping manner such that for any $s \\rightarrow t$ path, the length of the path $L$ is mapped to\n",
    "$$\n",
    "L \\rightarrow L + p_s - p_t\n",
    "$$\n",
    "This transformation therefore preserves the minimum edge length property.\n",
    "\n",
    "We aim to assign the values of $p_i$ such that all the edge lengths are nonnegative"
   ]
  },
  {
   "attachments": {},
   "cell_type": "markdown",
   "metadata": {},
   "source": [
    "### Finding the Weights\n",
    "\n",
    "1. Add a new vertex $s$ to the graph. Attach edges from $s \\rightarrow i$ for every vertex $i \\in V$ with cost $0$.\n",
    "2. Use Bellman-Ford to compute the shortest path distances from $s$ to each vertex.\n",
    "3. Assign these negative shortest distances to each vertex as the weights $p_i$"
   ]
  },
  {
   "attachments": {},
   "cell_type": "markdown",
   "metadata": {},
   "source": [
    "### Proof that weights will be non negative\n",
    "\n",
    "Fix an edge $e = (u, v)$. The weights $p_u$, $p_v$ are the shortest path distances from $s$ to $u$ and $v$ respectively.\n",
    "\n",
    "Since $p_v$ is the shortest path from $s$ to $v$, it is neccesarily the case that\n",
    "$$\n",
    "p_v \\leq p_u + c_e\n",
    "$$\n",
    "\n",
    "Therefore\n",
    "$$\n",
    "0 \\leq p_u + c_e - p_v = c^{\\prime}_e\n",
    "$$\n",
    "\n",
    "As required"
   ]
  },
  {
   "attachments": {},
   "cell_type": "markdown",
   "metadata": {},
   "source": [
    "### Pseudocode\n",
    "\n",
    "1. Form $G^{\\prime}$ by adding a new vertex $s$ and a new edge $(s,v)$ with length 0 for each edge $v \\in G$\n",
    "2. Run Bellman-Ford on $G^\\prime$ with source $s$.\n",
    "    - If Bellman-Ford finds a negative cost cycle, halt and return\n",
    "3. For each vertex $v \\in G$ define $p_v =$ length of a shortest $s \\rightarrow v$ path in $G^{\\prime}$. For each edge $c_e$ define\n",
    "$$\n",
    "c^{\\prime}_{e} = c_e + p_u - p_v\n",
    "$$\n",
    "4. For each vertex $u \\in G$, Run Dijkstra's algorithm with the updated edge costs to compute the shortest path distance $d^{\\prime}(u,v)$ for each $v \\in G$\n",
    "5. Revise the path lengthts for each $u \\rightarrow v$ paths\n",
    "$$\n",
    "d(u,v) = d^{\\prime}(u,v) - p_u + p_v\n",
    "$$"
   ]
  },
  {
   "attachments": {},
   "cell_type": "markdown",
   "metadata": {},
   "source": [
    "# Problem Set"
   ]
  },
  {
   "attachments": {},
   "cell_type": "markdown",
   "metadata": {},
   "source": [
    "## 2\n",
    "\n",
    "Consider the following optimization to the Bellman-Ford algorithm. \n",
    "\n",
    "Given a graph $G=(V,E)$ with real-valued edge lengths, we label the vertices $V=\\{1,2,3,…,n\\}$. The source vertex sss should be labeled \"1\", but the rest of the labeling can be arbitrary. \n",
    "\n",
    "Call an edge $(u,v) \\in E$ forward if $u \\lt v$ and backward if $u \\gt v$.  \n",
    "\n",
    "In every odd iteration of the outer loop (i.e., when $i=1,3,5,\\cdots$), we visit the vertices in the order from $1$ to $n$.\n",
    "\n",
    "In every even iteration of the outer loop (when $i=2,4,6,\\cdots$), we visit the vertices in the order from $n$ to $1$.\n",
    "\n",
    "In every odd iteration, we update the value of $A[i,v]$ using only the forward edges of the form $(w,v)$, using the most recent subproblem value for $w$ (that from the current iteration rather than the previous one).That is, we compute \n",
    "$$\n",
    "A[i,v]=\\min\\begin{cases}⁡\n",
    "    A[i−1,v] \\\\\n",
    "    \\min_{⁡(w,v)} A[i,w]+c_wv\n",
    "\\end{cases}\n",
    "$$\n",
    "\n",
    "where the inner minimum ranges only over forward edges sticking into $v$.\n",
    "\n",
    "Note that all relevant subproblems from the current round are avaliable for constant time lookup. In even iterations, we compute this same recurrence using only the backward edges. "
   ]
  },
  {
   "attachments": {},
   "cell_type": "markdown",
   "metadata": {},
   "source": [
    "It correctly computes the shortest paths iff the input graph has no negative cost cycle.\n",
    "\n",
    "Indeed.  Can you prove it?  As a preliminary step, prove that with a directed acyclic graph, considering destinations in topological order allows one to compute correct shortest paths in one pass (and thus, in linear time).  Roughly, pass $i$ of this optimized Bellman-Ford algorithm computes shortest paths amongst those comprising at most $i$ \"alternations\" between forward and backward edges."
   ]
  },
  {
   "attachments": {},
   "cell_type": "markdown",
   "metadata": {},
   "source": [
    "# Optional Theory Problem"
   ]
  },
  {
   "attachments": {},
   "cell_type": "markdown",
   "metadata": {},
   "source": [
    "## 1\n",
    "\n",
    "Recall the asynchronous version of the Bellman-Ford algorithm discussed in the internet routing section of Bellman-Ford. Prove that, in the worse case, this algorithm requires an exponential number of iterations to converge."
   ]
  },
  {
   "attachments": {},
   "cell_type": "markdown",
   "metadata": {},
   "source": [
    "# Programming Assingment"
   ]
  },
  {
   "attachments": {},
   "cell_type": "markdown",
   "metadata": {},
   "source": [
    "# 1 \n",
    "\n",
    "We will implement the algorithms to solve the All Pairs Shortest-Path problem.\n",
    "\n",
    "For each file 'g* Week 1.txt' the first line indicates the number of vertices and edges. Each subsequent line describes an edge with the shape\n",
    "\n",
    "[tail] [head] [cost]\n",
    "\n",
    "The task is to compute the shortest shortest path.\n",
    "\n",
    "Identify if any of the three graphs have no negative cycles. For each graph, compute all pairs shortest paths and remember the smallest one.\n",
    "\n",
    "If each of the three graphs has a negative cost cycle enter \"NULL\" as the answer. If exactly one graph has no negative cost cycles, enter the length of its shortest shortest path. If two graphs have no negative cost cycles, enter the smallest of the two graphs.\n",
    "\n",
    "For fun, try computing the shortest shortest path of the large graph 'gLarge Week 1.txt'"
   ]
  },
  {
   "cell_type": "code",
   "execution_count": 2,
   "metadata": {},
   "outputs": [],
   "source": [
    "from typing import Literal, Tuple\n",
    "\n",
    "def gen_fname(number: Literal[1, 2, 3]):\n",
    "    return f'g{number} Week 1.txt'\n",
    "\n",
    "def load_data(file: str):\n",
    "    with open(file) as f:\n",
    "        num_nodes, num_edges = [int(x) for x in next(f).split(\" \")]\n",
    "        \n",
    "        g: dict[int, list[Tuple[int, int]]] = {tail: [] for tail in range(1, num_nodes+1)}\n",
    "        g_rv: dict[int, list[Tuple[int, int]]] = {head: [] for head in range(1, num_nodes+1)}\n",
    "        \n",
    "        for line in f:\n",
    "            tail, head, cost = [int(x) for x in line.split(\" \")]\n",
    "            \n",
    "            g[tail].append((head, cost))\n",
    "            g_rv[head].append((tail, cost))\n",
    "        \n",
    "        return num_nodes, num_edges, g, g_rv"
   ]
  },
  {
   "cell_type": "code",
   "execution_count": 38,
   "metadata": {},
   "outputs": [],
   "source": [
    "import numpy as np\n",
    "from local_utils import Heap\n",
    "\n",
    "def johnsons(num_nodes, g: dict[int, list[Tuple[int, int]]], g_rv: dict[int, list[Tuple[int, int]]]):\n",
    "\n",
    "    # Bellman Ford Part\n",
    "\n",
    "    # augment with a new node \n",
    "    probe_node = 0\n",
    "    g_rv[probe_node] = []\n",
    "    \n",
    "    # array containing the edge costs from probe_node to all other nodes\n",
    "    left = [0 for _ in range(0, num_nodes +1)]\n",
    "    \n",
    "    for i in range(1, num_nodes +1):\n",
    "        right = []\n",
    "        early_stop = True\n",
    "\n",
    "        for v in range(0, num_nodes +1):\n",
    "            \n",
    "            if len(g_rv[v]) == 0:\n",
    "                right.append(left[v])\n",
    "            else:\n",
    "                right.append(min(\n",
    "                    left[v],\n",
    "                    min([left[tail] + cost for (tail, cost) in g_rv[v]])\n",
    "                ))\n",
    "            \n",
    "            if right[v] != left[v]:\n",
    "                early_stop = False\n",
    "        \n",
    "        left = right\n",
    "        \n",
    "        # negative cylce check \n",
    "        if i == num_nodes and not early_stop:\n",
    "            # halt and return there is a neg cycle\n",
    "            return False\n",
    "        \n",
    "        # early stop\n",
    "        if early_stop:\n",
    "            break\n",
    "                \n",
    "    node_weights = left\n",
    "    print(\"Weights Calculated\")\n",
    "\n",
    "    # n-Dijkstra part\n",
    "    global_closest_pair = None\n",
    "    for startNode in range(1, num_nodes +1):\n",
    "        print(startNode, end=\"\\r\")\n",
    "        \n",
    "        nodeHeap = Heap[int](type=\"min\")\n",
    "        costs = {node: np.Inf for node in range(1, num_nodes +1)}\n",
    "        \n",
    "        for head, cost in g[startNode]:\n",
    "            costs[head] = cost + node_weights[startNode] - node_weights[head]\n",
    "        \n",
    "        nodeHeap.build_heap(\n",
    "            list(costs.keys()),\n",
    "            costs\n",
    "        )\n",
    "        \n",
    "        closest_node = None\n",
    "        while nodeHeap.size > 0:\n",
    "            greedy_node, greedy_score = nodeHeap.extract_lead()\n",
    "\n",
    "            corrected_score = greedy_score - node_weights[startNode] + node_weights[greedy_node]\n",
    "\n",
    "            if closest_node is None or corrected_score < closest_node[1]:\n",
    "                closest_node = (greedy_node, corrected_score)\n",
    "            \n",
    "            for head, cost in g[greedy_node]:\n",
    "                if head in nodeHeap:\n",
    "                    old_key = nodeHeap.keys[head]\n",
    "                    new_key = greedy_score + cost + node_weights[greedy_node] - node_weights[head]\n",
    "                    \n",
    "                    if new_key < old_key:\n",
    "                        nodeHeap.rekey(head, new_key)\n",
    "                    \n",
    "        if global_closest_pair is None or closest_node[1] < global_closest_pair[1]:\n",
    "            global_closest_pair = (\n",
    "                (startNode, closest_node[0]),\n",
    "                closest_node[1]\n",
    "            )\n",
    "    \n",
    "    return global_closest_pair"
   ]
  },
  {
   "cell_type": "code",
   "execution_count": 39,
   "metadata": {},
   "outputs": [
    {
     "name": "stdout",
     "output_type": "stream",
     "text": [
      "Weights Calculated\n",
      "1000\r"
     ]
    },
    {
     "data": {
      "text/plain": [
       "((399, 904), -19)"
      ]
     },
     "execution_count": 39,
     "metadata": {},
     "output_type": "execute_result"
    }
   ],
   "source": [
    "num_nodes, num_edges, g, g_rv = load_data(gen_fname(3))\n",
    "johnsons(num_nodes, g, g_rv)"
   ]
  },
  {
   "cell_type": "code",
   "execution_count": 40,
   "metadata": {},
   "outputs": [],
   "source": [
    "import numpy as np\n",
    "\n",
    "def floydWarshall(num_nodes, g: dict[int, list[Tuple[int, int]]]):\n",
    "    arr_shape = (num_nodes +1, num_nodes +1)\n",
    "    left_k = np.full(arr_shape, np.Inf)\n",
    "    np.fill_diagonal(left_k, 0)\n",
    "    \n",
    "    for tail, edges in g.items():\n",
    "        for head, cost in edges:\n",
    "            left_k[tail, head] = cost\n",
    "\n",
    "    for k in range(1, num_nodes +1):\n",
    "        print(k, end=\"\\r\")\n",
    "        # sped up using numpy!!\n",
    "        right_k = np.fromfunction(\n",
    "            lambda i, j: np.minimum(left_k[i, j], left_k[i, k] + left_k[k, j]),\n",
    "            arr_shape,\n",
    "            dtype=int\n",
    "        )\n",
    "        left_k = right_k\n",
    "\n",
    "    # negative cycle check\n",
    "    if np.any(left_k.diagonal() < 0):\n",
    "        return False\n",
    "    \n",
    "    idx = np.unravel_index(left_k.argmin(), arr_shape)\n",
    "    return (idx, left_k[idx])"
   ]
  },
  {
   "cell_type": "code",
   "execution_count": 41,
   "metadata": {},
   "outputs": [
    {
     "name": "stdout",
     "output_type": "stream",
     "text": [
      "1000\r"
     ]
    },
    {
     "data": {
      "text/plain": [
       "((399, 904), -19.0)"
      ]
     },
     "execution_count": 41,
     "metadata": {},
     "output_type": "execute_result"
    }
   ],
   "source": [
    "num_nodes, num_edges, g, g_rv = load_data(gen_fname(3))\n",
    "floydWarshall(num_nodes, g)"
   ]
  }
 ],
 "metadata": {
  "kernelspec": {
   "display_name": "Python 3",
   "language": "python",
   "name": "python3"
  },
  "language_info": {
   "codemirror_mode": {
    "name": "ipython",
    "version": 3
   },
   "file_extension": ".py",
   "mimetype": "text/x-python",
   "name": "python",
   "nbconvert_exporter": "python",
   "pygments_lexer": "ipython3",
   "version": "3.11.3"
  },
  "orig_nbformat": 4
 },
 "nbformat": 4,
 "nbformat_minor": 2
}
