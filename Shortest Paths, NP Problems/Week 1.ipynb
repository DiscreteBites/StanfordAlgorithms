{
 "cells": [
  {
   "attachments": {},
   "cell_type": "markdown",
   "metadata": {},
   "source": [
    "# Bellman-Ford Algorithm\n",
    "\n",
    "Given a directed graph $G=(V,E)$ with edges lengths $c_e$ and a source vertex $s$\n",
    "\n",
    "Compute the length of the shortest $s-v$ path for every other vertex in the graph."
   ]
  },
  {
   "attachments": {},
   "cell_type": "markdown",
   "metadata": {},
   "source": [
    "## On Negative Cycles\n",
    "\n",
    "When a cycle of edges in a graph has a negative total sum, the shortest path can be indefinately decremented by going one more loop around it. \n",
    "\n",
    "This invalidates the goal of the algorithm.\n",
    "\n",
    "On solution is to compute the shortest cycle free path i.e; exclude any cycles. This however, is an NP-hard problem and there are no polynomial algorihtms.\n",
    "\n",
    "Moving foward, the bellman-ford algorithm will assume that there are no negative cycles. Furthermore, the bellman-ford algorithm is able to quickly check if there is a negative cycle."
   ]
  },
  {
   "attachments": {},
   "cell_type": "markdown",
   "metadata": {},
   "source": [
    "## Optimal Substructure\n",
    "\n",
    "The key idea is to artificially restrict the number of edges in a path. Such that smaller subproblems relate to paths with fewer edges.\n",
    "\n",
    "Let $G = (V, E)$ be a directed graph with edge lengths $c_e$ and source vertex $s$.\n",
    "\n",
    "For every $v \\in V$ and $i \\in \\{1, 2, 3, \\cdots \\}$, define\n",
    "$$\n",
    "p_{i,v} = \\text{shortest} \\; s \\rightarrow v \\; \\text{path with at most} \\; i \\; \\text{edges}\n",
    "$$\n",
    "\n",
    "Case 1:\n",
    "\n",
    "if $p_{i,v}$ has less than $i-1$ edges, then it is the shortest $s \\rightarrow v$ path.\n",
    "\n",
    "Case 2:\n",
    "\n",
    "if $p_{i,v}$ has $i$ edges. Consider the last hop $w \\rightarrow v$. Then $p_{i-1, w}$ is a shortest path.\n",
    "\n",
    "With these two cases we can develop a recurrence. Let $L_{i, v}$ be the minminum length of a $s \\rightarrow v$ path with $\\leq i$ edges\n",
    "\n",
    "For every $v \\in V$, $i \\in \\{1, 2, 3, \\cdots\\}$\n",
    "$$\n",
    "L_{i,v} = \\min\n",
    "\\begin{cases}\n",
    "L_{(i-1), v} \\\\\n",
    "\\min\\limits_{(w, v) \\in E}{(L_{(i-1, w)} + c_{(w,v)})}\n",
    "\\end{cases}\n",
    "$$\n",
    "\n",
    "Suppose an input graph does not have any negative cycles. Then the shortst paths will not have any cycles, and the longest shortest path will be $\\leq (n-1)$ edges. Therefore, we only need to solve subproblems up to $i = n-1$\n",
    "\n",
    "Therefore the subproblem space is\n",
    "$$\n",
    "i \\in \\{1, 2, \\cdots, n-1\\} \\\\\n",
    "v \\in V\n",
    "$$"
   ]
  },
  {
   "attachments": {},
   "cell_type": "markdown",
   "metadata": {},
   "source": [
    "## Psuedocode\n",
    "\n",
    "```\n",
    "Let A = 2D array\n",
    "\n",
    "A[0, s] = 0\n",
    "A[0, v] = +inf for all v != s\n",
    "\n",
    "for i= 1 to n-1:\n",
    "    for each v in V:\n",
    "\n",
    "        A[i, v] = min(\n",
    "            A[i-1, v]\n",
    "\n",
    "            min over edges (w, v)(\n",
    "                A[i-1, w] + c_wv\n",
    "            )\n",
    "        )\n",
    "```\n",
    "\n",
    "Running time is $O(mn)$. Note that for sparse graphs $m = O(n)$ and for dense graphs $m = O(n^2)$. This aligns with our intution that the running time should be somewhere between $O(n^2)$ and $O(n^3)$"
   ]
  },
  {
   "attachments": {},
   "cell_type": "markdown",
   "metadata": {},
   "source": [
    "## Checking for Negative Cycles\n",
    "\n",
    "We claim that after running the Bellman-Ford algorithm for 1 more $n^{th}$ iteration,\n",
    "$$\n",
    "G \\; \\text{has no negative cycles} \\iff A[n-1, v] = A[n, v] \\quad \\forall v \\in V\n",
    "$$\n",
    "\n",
    "Proof:\n",
    "\n",
    "The forward direction follows from the proof of correctness of the Bellman-Ford algorithm. \n",
    "\n",
    "For the reverse direction, assume\n",
    "$$\n",
    "A[n-1, v] = A[n, v] \\quad \\forall v \\in V\n",
    "$$\n",
    "\n",
    "Let $d(v)$ denote the common value of $A[n-1, v]$ and $A[n, v]$. This indicates that\n",
    "$$\n",
    "d(v) \\leq d(w) + c_{w,v} \\quad \\forall (w, v) \\in E\n",
    "$$\n",
    "\n",
    "Consider an arbitrary cycle $C$\n",
    "$$\n",
    "\\sum_{(w,v) \\in C}{c_{w, v}} \\geq \\sum_{(w,v) \\in C}{d(v) - d(w)} = 0\n",
    "$$\n",
    "\n",
    "Therefore the cycles must have positive overall sum."
   ]
  },
  {
   "attachments": {},
   "cell_type": "markdown",
   "metadata": {},
   "source": [
    "## Optimisations\n",
    "\n",
    "1. Stop early\n",
    "\n",
    "If at some iteration $j < n-1$\n",
    "$$\n",
    "A[j, v] = A[j-1, v] \\quad \\forall v \\in V\n",
    "$$\n",
    "Then we can stop the algorithm early as it will only continue to further inherit previous values till completion\n",
    "\n",
    "2. Space Optimisation\n",
    "\n",
    "We only need to store the previous array values for the next array. However, in order to maintain information regarding the paths themselves, we will need to store at each vertex a predecessor pointer. Let\n",
    "$$\n",
    "B[i, v] = 2^{nd} \\; \\text{to last vertex on the shortest} \\; s \\rightarrow v \\text{path}\n",
    "$$\n",
    "Then, we need only to hop through $B$ values to reconstruct the shortest paths.\n",
    "\n",
    "To reconstruct a negative cost cycles, we can use depth-first search to check for a cycle of predecessor pointers after each round.\n"
   ]
  },
  {
   "attachments": {},
   "cell_type": "markdown",
   "metadata": {},
   "source": [
    "## Creating a routing protocol\n",
    "\n",
    "1. Switch from source-driven to destination-driven\n",
    "\n",
    "every vertex $v$ stores shortest-path distances from $v$ to any relevant destination $t$ and the first hop of a shortest path.\n",
    "\n",
    "2. Hanndling Asynchrony\n",
    "\n",
    "we cannot assume all $A[i-1, v]$ get computed before all $A[i, v]$. We can switch from a \"pull-based\" to a \"push-based\" approach. "
   ]
  }
 ],
 "metadata": {
  "language_info": {
   "name": "python"
  },
  "orig_nbformat": 4
 },
 "nbformat": 4,
 "nbformat_minor": 2
}
