{
 "cells": [
  {
   "attachments": {},
   "cell_type": "markdown",
   "metadata": {},
   "source": [
    "# $NP$-Complete Problems"
   ]
  },
  {
   "attachments": {},
   "cell_type": "markdown",
   "metadata": {},
   "source": [
    "## Polynomial Time Solvability\n",
    "\n",
    "A problem is polynomial time solvable if there is an algorithm that correctly solves it in $O(n^k)$ time for some constant $k$. Where $n$ is some measure of the input length.\n",
    "\n",
    "We define the class $P$ to be the set of all polynomail-time solvable problems. Everything except for \n",
    "\n",
    "1. cycle- free shortest paths in graphs with negative cycles\n",
    "2. Knapsack\n",
    "\n",
    "    - Note that the running time is $O(nW)$. However, the input length is proportional to $\\log{W}$ - this comes from the number of digits required to represent a number. Therefore the Knapsack problem runs exponential w.r.t the input length - increasing the size of $W$ by one more character would increase the running time by 10 if $W$ is given in base 10.\n",
    "\n",
    "\n",
    "Belongs to $P$. The two exceptions listed are $NP$-complete problems"
   ]
  },
  {
   "attachments": {},
   "cell_type": "markdown",
   "metadata": {},
   "source": [
    "## Problem Reduction\n",
    "\n",
    "A problem $\\Pi_1$ reduces to problem $\\Pi_2$ if when given a polynomail-time subroutine for $\\Pi_2$, $\\Pi_1$ can be solved in polynomail time"
   ]
  },
  {
   "attachments": {},
   "cell_type": "markdown",
   "metadata": {},
   "source": [
    "## Completeness\n",
    "\n",
    "Suppose $\\Pi_1$ reduces to $\\Pi_2$.\n",
    "$$\n",
    "\\Pi_1 \\notin P \\implies \\Pi_2 \\notin P\n",
    "$$\n",
    "\n",
    "Let $C$ be a set of problems. Then a given problem $\\Pi$ is $C$-complete if\n",
    "1. $\\Pi \\in C$\n",
    "2. everything in $C$ reduces to $\\Pi$"
   ]
  },
  {
   "attachments": {},
   "cell_type": "markdown",
   "metadata": {},
   "source": [
    "## Defining the $NP$ class\n",
    "\n",
    "A problem is in $NP$ if:\n",
    "1. solutions always have length polynomail in the input size\n",
    "2. purported solutions can be verified in polynomial time \n",
    "\n",
    "By the two conditions, every problem in $NP$ can be solved by brute-force search in exponential time."
   ]
  },
  {
   "attachments": {},
   "cell_type": "markdown",
   "metadata": {},
   "source": [
    "## Approaches to $NP$-Complete Problems\n",
    "\n",
    "Three useful stategies:\n",
    "\n",
    "1. focus on computationally tractable special cases.\n",
    "    - WIS in path graphs / Trees\n",
    "    - Knapsack with polynomial size capacity $W = O(n)$\n",
    "\n",
    "2. heuristics (fast algorithms that are not always correct)\n",
    "\n",
    "3. solve in exponential time but faster thann brute-force search\n",
    "    - Knapsack can run in $O(nW)$ instead of $2^n$\n",
    "    - TSP can run in $\\approx 2^n$\n",
    "    - Vertex cover $2^{k}$ instead of $n^{k}$"
   ]
  },
  {
   "attachments": {},
   "cell_type": "markdown",
   "metadata": {},
   "source": [
    "# Vertex Cover Problem\n",
    "\n",
    "Given a graph $G=(V,E)$ compute a minimum cardinality vertex cover. A vertex cover is a subset $S \\subseteq V$ that contains at least one end point of each edge of $G$"
   ]
  },
  {
   "attachments": {},
   "cell_type": "markdown",
   "metadata": {},
   "source": [
    "## Applying stragegies\n",
    "\n",
    "We can identify computationally tractable special cases\n",
    "- trees (dynamic programming approach works)\n",
    "- bipartite graphs (application of the maximum flow problem)\n",
    "- when the optimal solution is small ($\\approx \\log{n}$ or less)\n",
    "\n",
    "We can also come up with a exponential time algorithm thats better than brute force search"
   ]
  },
  {
   "cell_type": "markdown",
   "metadata": {},
   "source": [
    "## A Smarter Search\n",
    "\n",
    "Suppose given a positive integer $k$ as input, we want to check whether or not there is a vertex cover with size $\\leq k$"
   ]
  },
  {
   "cell_type": "markdown",
   "metadata": {},
   "source": [
    "### Subsctructure Lemma\n",
    "\n",
    "Consider a graph $G$, edge $(u, v)$, integer $k \\geq 1$.\n",
    "\n",
    "Let $G_u = G$ with $u$ and its incident edges deleted. Then\n",
    "$$\n",
    "G \\;\\text{has a vertex cover of size} \\; k \\iff G_u \\; \\text{or} \\; G_v \\; \\text{(or both) has a vertex cover of size $k-1$}\n",
    "$$\n",
    "\n",
    "#### Proof\n",
    "($\\impliedby$):\n",
    "\n",
    "Suppose $G_u$ has a vertex cover $S$ of size $k-1$.\n",
    "\n",
    "Write $E = E_u \\cup F_u$. Since $S$ has an end point of each edge of $E_u$, $S \\cup \\{ u \\}$ is a vertex cover of size $k$ of G\n",
    "\n",
    "($\\implies$):\n",
    "\n",
    "Suppose $G$ has a vertex cover $S$ of size $k$.\n",
    "\n",
    "Since $(u,v)$ is an edge of $G$ at least one of $u$ or $v$ is in $S$. Since no edges of $E_u$ are incident on $u$, $S - \\{ u \\}$ must be a vertex cover of size $k-1$ of $G_u$"
   ]
  },
  {
   "cell_type": "markdown",
   "metadata": {},
   "source": [
    "## Pseudo-code\n",
    "\n",
    "Given undirected graph $G=(V,E)$, and integer $k$\n",
    "\n",
    "1. Pick an arbitrary edge $(u, v) \\in E$\n",
    "2. Recursively search for a vertex cover of size $k-1$ in $G_u$\n",
    "    - If found return $S \\cup \\{ u \\}$\n",
    "3. Recursively search for a vertex cover of size $k-1$ in $G_v$\n",
    "    - If found return $S \\cup \\{ v \\}$\n",
    "4. Else there is no vertex cover of size less than $k$\n",
    "\n",
    "\n",
    "Running time bound:\n",
    "\n",
    "The total recurstion depth is at most $k$. Therefore numbe of calls $O(2^k)$. Also, $O(m)$ work per recursive call (omitting work done by subcalls)\n",
    "\n",
    "$\\therefore$ Total work = $O(m2^k)$"
   ]
  },
  {
   "attachments": {},
   "cell_type": "markdown",
   "metadata": {},
   "source": [
    "# Traveling Salesman Problem\n",
    "\n",
    "Given a complete undirected graph with nonnegative edge costs, return a minimum cost tour. A tour is a cycle that vists each vertex exactly once.\n",
    "\n",
    "[Edmonds](paths-trees-and-flowers.pdf) conjectures that there is no polynomail time algorithm that solves the TSP.\n",
    "\n",
    "Brute force search takes $\\approx n!$ time. We will develop a dynamic programming algorithm that runs in $O(n^22^n)$ time"
   ]
  },
  {
   "cell_type": "markdown",
   "metadata": {},
   "source": [
    "## Optimal Substructure\n",
    "\n",
    "For every destination $j \\in \\{ 1, 2, \\cdots, n\\}$, and every subset $S \\subseteq \\{1, 2, \\cdots, n\\}$ that contains $1$ and $j$, let\n",
    "$$\n",
    "L_{sj} = \\text{minimum length of a path from} \\; 1 \\; \\text{to} \\; j \\; \\\\\\text{that vists precisely the vertices of} \\; S \\text{[exactly once each]}\n",
    "$$\n",
    "\n",
    "Let $P$ be a shortest path from $1$ to $j$ that vists the vertices $S$ exactly once each. If the last hop of $P$ is $(k, j)$,\n",
    "$$\n",
    "\\fbox{1} \\overset{p^\\prime}{\\longrightarrow} \\fbox{k} \\rightarrow \\fbox{j}\n",
    "$$\n",
    "\n",
    "Then $p^\\prime$ is a shortest path from $1$ to $k$ that visits every vertex of $S - \\{j\\}$ exactly once\n",
    "\n",
    "This lets us arrive at a recurrence\n",
    "$$\n",
    "L_{sj} = \\min_{k \\in S, \\; k \\neq j}\\{ L_{s- \\{ j\\}, k} + c_{kj}\\}\n",
    "$$"
   ]
  },
  {
   "cell_type": "markdown",
   "metadata": {},
   "source": [
    "## Psuedo code\n",
    "\n",
    "Let $A = 2D$ array indexed by subsets $S \\in {1, 2, \\cdots, n}$ that contains $1$ and destinations $j \\in {1, 2, \\cdots, n}$.\n",
    "\n",
    "Base Case:\n",
    "$$\n",
    "A[S, 1] = \\begin{cases}\n",
    "0 & \\text{if} \\; S = \\{1\\} \\\\\n",
    "+\\infty & \\text{otherwise}\n",
    "\\end{cases}\n",
    "$$\n",
    "\n",
    "```\n",
    "For m = 2 to n:\n",
    "    For each susbet s of size m that contains 1:\n",
    "        For each j in S, j != 1:\n",
    "        \n",
    "            // minimum over all k in S k != j\n",
    "            A[S, j] = min(\n",
    "                A[S-{j}, k] + c_kj\n",
    "            )\n",
    "\n",
    "// minimum over j=2 to n\n",
    "Return min(\n",
    "    A[{1, 2, 3, ... , n}, j] + C_j1\n",
    ") \n",
    "```\n",
    "\n",
    "This runs in $O(n 2^n) \\times O(n) = O(n^22^n)$ "
   ]
  }
 ],
 "metadata": {
  "language_info": {
   "name": "python"
  },
  "orig_nbformat": 4
 },
 "nbformat": 4,
 "nbformat_minor": 2
}
