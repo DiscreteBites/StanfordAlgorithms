{
 "cells": [
  {
   "attachments": {},
   "cell_type": "markdown",
   "metadata": {},
   "source": [
    "# $NP$-Complete Problems"
   ]
  },
  {
   "attachments": {},
   "cell_type": "markdown",
   "metadata": {},
   "source": [
    "## Polynomial Time Solvability\n",
    "\n",
    "A problem is polynomial time solvable if there is an algorithm that correctly solves it in $O(n^k)$ time for some constant $k$. Where $n$ is some measure of the input length.\n",
    "\n",
    "We define the class $P$ to be the set of all polynomail-time solvable problems. Everything except for \n",
    "\n",
    "1. cycle- free shortest paths in graphs with negative cycles\n",
    "2. Knapsack\n",
    "\n",
    "    - Note that the running time is $O(nW)$. However, the input length is proportional to $\\log{W}$ - this comes from the number of digits required to represent a number. Therefore the Knapsack problem runs exponential w.r.t the input length - increasing the size of $W$ by one more character would increase the running time by 10 if $W$ is given in base 10.\n",
    "\n",
    "\n",
    "Belongs to $P$. The two exceptions listed are $NP$-complete problems"
   ]
  },
  {
   "attachments": {},
   "cell_type": "markdown",
   "metadata": {},
   "source": [
    "## Traveling Salesman Problem\n",
    "\n",
    "Given a complete undirected graph with nonnegative edge costs, return a minimum cost tour. A tour is a cycle that vists each vertex exactly once.\n",
    "\n",
    "[Edmonds](paths-trees-and-flowers.pdf) conjectures that there is no polynomail time algorithm that solves the TSP"
   ]
  },
  {
   "attachments": {},
   "cell_type": "markdown",
   "metadata": {},
   "source": [
    "## Problem Reduction\n",
    "\n",
    "A problem $\\Pi_1$ reduces to problem $\\Pi_2$ if when given a polynomail-time subroutine for $\\Pi_2$, $\\Pi_1$ can be solved in polynomail time"
   ]
  },
  {
   "attachments": {},
   "cell_type": "markdown",
   "metadata": {},
   "source": [
    "## Completeness\n",
    "\n",
    "Suppose $\\Pi_1$ reduces to $\\Pi_2$.\n",
    "$$\n",
    "\\Pi_1 \\notin P \\implies \\Pi_2 \\notin P\n",
    "$$\n",
    "\n",
    "Let $C$ be a set of problems. Then a given problem $\\Pi$ is $C$-complete if\n",
    "1. $\\Pi \\in C$\n",
    "2. everything in $C$ reduces to $\\Pi$"
   ]
  },
  {
   "attachments": {},
   "cell_type": "markdown",
   "metadata": {},
   "source": [
    "## Defining the $NP$ class\n",
    "\n",
    "A problem is in $NP$ if:\n",
    "1. solutions always have length polynomail in the input size\n",
    "2. purported solutions can be verified in polynomial time \n",
    "\n",
    "By the two conditions, every problem in $NP$ can be solved by brute-force search in exponential time."
   ]
  },
  {
   "attachments": {},
   "cell_type": "markdown",
   "metadata": {},
   "source": [
    "## Approaches to $NP$-Complete Problems\n",
    "\n",
    "Three useful stategies:\n",
    "\n",
    "1. focus on computationally tractable special cases.\n",
    "    - WIS in path graphs / Trees\n",
    "    - Knapsack with polynomial size capacity $W = O(n)$\n",
    "\n",
    "2. heuristics (fast algorithms that are not always correct)\n",
    "\n",
    "3. solve in exponential time but faster thann brute-force search\n",
    "    - Knapsack can run in $O(nW)$ instead of $2^n$\n",
    "    - TSP can run in $\\approx 2^n$\n",
    "    - Vertex cover $2^{k}$ instead of $n^{k}$"
   ]
  },
  {
   "attachments": {},
   "cell_type": "markdown",
   "metadata": {},
   "source": [
    "# Vertex Cover Problem\n",
    "\n",
    "Given a graph $G=(V,E)$ compute a minimum cardinality vertex cover. A vertex cover is a subset $S \\subseteq V$ that contains at least one end point of each edge of $G$\n"
   ]
  },
  {
   "attachments": {},
   "cell_type": "markdown",
   "metadata": {},
   "source": [
    "## Applying stragegies\n",
    "\n",
    "We can identify computationally tractable special cases\n",
    "    - trees (dynamic programming approach works)\n",
    "    - bipartite graphs (application of the maximum flow problem)\n",
    "    - when the optimal solution is small ($\\approx \\log{n}$ or less)\n",
    "\n",
    "We can also come up with a exponential time algorithm thats better than brute force search"
   ]
  }
 ],
 "metadata": {
  "language_info": {
   "name": "python"
  },
  "orig_nbformat": 4
 },
 "nbformat": 4,
 "nbformat_minor": 2
}
