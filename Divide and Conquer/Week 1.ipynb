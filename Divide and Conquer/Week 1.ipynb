{
 "cells": [
  {
   "attachments": {},
   "cell_type": "markdown",
   "metadata": {},
   "source": [
    "## Programming Assingment #1\n",
    "\n",
    "In this programming assignment you will implement one or more of the integer multiplication algorithms described in lecture."
   ]
  },
  {
   "attachments": {},
   "cell_type": "markdown",
   "metadata": {},
   "source": [
    "To get the most out of this assignment, your program should restrict itself to multiplying only pairs of single-digit numbers.  You can implement the grade-school algorithm if you want, but to get the most out of the assignment you'll want to implement recursive integer multiplication and/or Karatsuba's algorithm.\n",
    "\n",
    "So: what's the product of the following two 64-digit numbers?\n",
    "\n",
    "3141592653589793238462643383279502884197169399375105820974944592\n",
    "\n",
    "2718281828459045235360287471352662497757247093699959574966967627\n",
    "\n",
    "[TIP: before submitting, first test the correctness of your program on some small test cases of your own devising. Then post your best test cases to the discussion forums to help your fellow students!]\n",
    "\n",
    "[Food for thought: the number of digits in each input number is a power of 2.  Does this make your life easier?  Does it depend on which algorithm you're implementing?]\n",
    "\n",
    "The numeric answer should be typed in the space below.  So if your answer is 1198233847, then just type 1198233847 in the space provided without any space / commas / any other punctuation marks. \n",
    "\n",
    "(We do not require you to submit your code, so feel free to use any programming language you want --- just type the final numeric answer in the following space.)"
   ]
  },
  {
   "cell_type": "code",
   "execution_count": 1,
   "metadata": {},
   "outputs": [],
   "source": [
    "# wouldnt base 2 be the most naturla because of bit_length\n",
    "BASE = 10\n",
    "\n",
    "def num_digits(x: int):\n",
    "    if (x < BASE):\n",
    "        return 1\n",
    "\n",
    "    return num_digits(x // BASE) +1\n",
    "\n",
    "def recursive_multiply(a: int, b: int):\n",
    "    # (a + b)(c + d) = ac + bc + ac + bd\n",
    "\n",
    "    aDigits = num_digits(a)\n",
    "    aRightDigits = aDigits // 2\n",
    "\n",
    "    bDigits = num_digits(b)\n",
    "    bRightDigits = aDigits // 2\n",
    "\n",
    "    if (aDigits == 1 or bDigits == 1): \n",
    "        return a * b\n",
    "\n",
    "    aRight = a % (BASE ** aRightDigits)\n",
    "    aLeft = a // (BASE ** aRightDigits)\n",
    "\n",
    "    bRight = b % (BASE ** bRightDigits)\n",
    "    bLeft = b // (BASE ** bRightDigits)\n",
    "\n",
    "    ac = recursive_multiply(aLeft, bLeft)\n",
    "    bd = recursive_multiply(aRight, bRight)\n",
    "\n",
    "    if (aRightDigits == bRightDigits):\n",
    "        middle = recursive_multiply(aRight + aLeft, bRight + bLeft) - ac - bd\n",
    "\n",
    "        return ac * (BASE ** (aRightDigits + bRightDigits)) + \\\n",
    "            middle * (BASE ** aRightDigits) + \\\n",
    "            bd\n",
    "    \n",
    "    else:\n",
    "        bc = recursive_multiply(aLeft, bRight)\n",
    "        ac = recursive_multiply(aRight, bLeft)\n",
    "\n",
    "        return ac * (BASE ** (aRightDigits + bRightDigits)) + \\\n",
    "            bc * (BASE ** bRightDigits) + \\\n",
    "            ac * (BASE ** aRightDigits) + \\\n",
    "            bd\n",
    "        "
   ]
  },
  {
   "cell_type": "code",
   "execution_count": 2,
   "metadata": {},
   "outputs": [
    {
     "name": "stdout",
     "output_type": "stream",
     "text": [
      "PASSED > Test: [5, 7]\n",
      "PASSED > Test: [123, 596]\n",
      "PASSED > Test: [12304, 45840]\n",
      "PASSED > Test: [503, 42]\n",
      "PASSED > Test: [213231, 4423534534]\n",
      "PASSED > Test: [112312, 31232]\n"
     ]
    }
   ],
   "source": [
    "testPairs = [\n",
    "    [5, 7],\n",
    "    [123, 596],\n",
    "    [12304, 45840],\n",
    "    [503, 42],\n",
    "    [213231, 4423534534],\n",
    "    [112312, 31232]\n",
    "]\n",
    "\n",
    "for pair in testPairs:\n",
    "    print(f'{\"PASSED\" if recursive_multiply(*pair) == pair[1] * pair[0] else \"FAILED\"} > Test: {pair}')"
   ]
  },
  {
   "cell_type": "code",
   "execution_count": 3,
   "metadata": {},
   "outputs": [
    {
     "data": {
      "text/plain": [
       "8539734222673567065463550869546574495034888535765114961879601127067743044893204848617875072216249073013374895871952806582723184"
      ]
     },
     "execution_count": 3,
     "metadata": {},
     "output_type": "execute_result"
    }
   ],
   "source": [
    "recursive_multiply(\n",
    "    3141592653589793238462643383279502884197169399375105820974944592,\n",
    "    2718281828459045235360287471352662497757247093699959574966967627\n",
    ")"
   ]
  }
 ],
 "metadata": {
  "kernelspec": {
   "display_name": "Python 3",
   "language": "python",
   "name": "python3"
  },
  "language_info": {
   "codemirror_mode": {
    "name": "ipython",
    "version": 3
   },
   "file_extension": ".py",
   "mimetype": "text/x-python",
   "name": "python",
   "nbconvert_exporter": "python",
   "pygments_lexer": "ipython3",
   "version": "3.11.3"
  },
  "orig_nbformat": 4
 },
 "nbformat": 4,
 "nbformat_minor": 2
}
