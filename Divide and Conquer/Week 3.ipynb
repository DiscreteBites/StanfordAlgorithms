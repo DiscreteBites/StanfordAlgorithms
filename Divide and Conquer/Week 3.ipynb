{
 "cells": [
  {
   "attachments": {},
   "cell_type": "markdown",
   "metadata": {},
   "source": [
    "# QuickSort"
   ]
  },
  {
   "attachments": {},
   "cell_type": "markdown",
   "metadata": {},
   "source": [
    "High-Level Description\n",
    "\n",
    "QuickSort(A: Array, length: n)\n",
    "\n",
    "if $n = 1$ return\n",
    "\n",
    "$p=$ ChoosePivot(A, n)\n",
    "\n",
    "Partition A about $p$\n",
    "\n",
    "recurse on 1st part\n",
    "\n",
    "recurse on 2nd part"
   ]
  },
  {
   "cell_type": "code",
   "execution_count": 121,
   "metadata": {},
   "outputs": [],
   "source": [
    "from typing import Callable\n",
    "comparisons = 0\n",
    "\n",
    "def partition(a: list[int], pivot: int, end: int):\n",
    "    pivot_value = a[pivot]\n",
    "    i = pivot + 1\n",
    "    for j in range(pivot + 1, end +1):\n",
    "        if a[j] < pivot_value:\n",
    "\n",
    "            # swap larger value into the i portion\n",
    "            a[i], a[j] = a[j], a[i]\n",
    "            i += 1\n",
    "    \n",
    "    # swap the pivot into the correct place \n",
    "    a[pivot], a[i -1] = a[i - 1], a[pivot]\n",
    "    return i -1\n",
    "\n",
    "def quickSort(a: list[int], choosePivot: Callable[[list[int], int, int], int], start=0, end=None):\n",
    "    global comparisons\n",
    "    # print('**')\n",
    "    # print(a, start, end)\n",
    "    length = len(a)\n",
    "    if end is None:\n",
    "        end = length -1\n",
    "    \n",
    "    if length == 1 or start == end or start > end:\n",
    "        return a\n",
    "    \n",
    "    comparisons += end - start\n",
    "    \n",
    "    p = choosePivot(a, start, end)\n",
    "    #swap the pivot with the first element of the sub array\n",
    "    a[start], a[p] = a[p], a[start]\n",
    "    # print(a, p)\n",
    "    pindex = partition(a, start, end)\n",
    "    # print(a[start:end+1], pindex)\n",
    "\n",
    "    quickSort(a, choosePivot, start, pindex -1)\n",
    "    quickSort(a, choosePivot, pindex +1, end)\n",
    "\n",
    "    return a\n",
    "\n",
    "def test_sort(a: list[int], choosePivot: Callable[[list[int], int, int], int]):\n",
    "    copy = [*a]\n",
    "    copy.sort()\n",
    "    return quickSort(a, choosePivot) == copy\n",
    "\n",
    "def count_comparisons(a: list[int], choosePivot: Callable[[list[int], int, int], int]):\n",
    "    global comparisons\n",
    "\n",
    "    comparisons = 0\n",
    "    quickSort(a, choosePivot)\n",
    "    return comparisons"
   ]
  },
  {
   "cell_type": "code",
   "execution_count": 122,
   "metadata": {},
   "outputs": [
    {
     "name": "stdout",
     "output_type": "stream",
     "text": [
      "True\n",
      "True\n",
      "True\n"
     ]
    }
   ],
   "source": [
    "import random\n",
    "test1 = random.sample(range(1, 1000), 20)\n",
    "test2 = random.sample(range(1, 1000), 20)\n",
    "test3 = random.sample(range(1, 1000), 20)\n",
    "\n",
    "def first_element_pivot(a, start, end):\n",
    "    return start\n",
    "\n",
    "def final_element_pivot(a, start, end):\n",
    "    return end\n",
    "\n",
    "def median_of_three_pivot(a, start, end):\n",
    "    first = a[start]\n",
    "    last = a[end]\n",
    "\n",
    "    length = end + 1 - start\n",
    "    middle_index = (length // 2) -1 + start if length % 2 == 0 else (length // 2) + start\n",
    "    middle = a[middle_index]\n",
    "\n",
    "    elements = [first, middle, last]\n",
    "    elements.sort()\n",
    "\n",
    "    if elements[1] == first:\n",
    "        return start\n",
    "    elif elements[1] == last:\n",
    "        return end\n",
    "    else:\n",
    "        return middle_index\n",
    "\n",
    "print(test_sort(test1, final_element_pivot))\n",
    "print(test_sort(test2, first_element_pivot))\n",
    "print(test_sort(test3, median_of_three_pivot))"
   ]
  },
  {
   "cell_type": "code",
   "execution_count": 123,
   "metadata": {},
   "outputs": [
    {
     "name": "stdout",
     "output_type": "stream",
     "text": [
      "162085\n",
      "164123\n",
      "138382\n"
     ]
    }
   ],
   "source": [
    "data1 = [int(x) for x in open(file='Week 3 QuickSort.txt', mode='r')]\n",
    "data2 = [*data1]\n",
    "data3 = [*data1]\n",
    "\n",
    "print(count_comparisons(data1, first_element_pivot))\n",
    "print(count_comparisons(data2, final_element_pivot))\n",
    "print(count_comparisons(data3, median_of_three_pivot))"
   ]
  }
 ],
 "metadata": {
  "kernelspec": {
   "display_name": "Python 3",
   "language": "python",
   "name": "python3"
  },
  "language_info": {
   "codemirror_mode": {
    "name": "ipython",
    "version": 3
   },
   "file_extension": ".py",
   "mimetype": "text/x-python",
   "name": "python",
   "nbconvert_exporter": "python",
   "pygments_lexer": "ipython3",
   "version": "3.9.6"
  },
  "orig_nbformat": 4
 },
 "nbformat": 4,
 "nbformat_minor": 2
}
