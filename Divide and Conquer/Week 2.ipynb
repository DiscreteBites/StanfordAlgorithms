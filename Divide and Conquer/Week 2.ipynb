{
 "cells": [
  {
   "attachments": {},
   "cell_type": "markdown",
   "metadata": {},
   "source": [
    "# Strassen's subcubic matrix multiplication\n",
    "\n",
    "Straightforward matrix multiplication runs in $O(n^3)$ time, Strassen's Algorithm instead runs in $O(n^2\\log n)$"
   ]
  },
  {
   "attachments": {},
   "cell_type": "markdown",
   "metadata": {},
   "source": [
    "Let $X$, $Y$ and $Z$ be $n$-square matrices, such that\n",
    "$$XY = Z$$\n",
    "\n",
    "Consider the 4 $n/2$-square block matrices of $X$ and $Y$ \n",
    "$$\n",
    "X=\n",
    "\\begin{pmatrix} \n",
    "    A & B \\\\ \n",
    "    C & D\n",
    "\\end{pmatrix}\n",
    "\\quad\n",
    "Y=\n",
    "\\begin{pmatrix}\n",
    "    E & F \\\\ \n",
    "    G & H\n",
    "\\end{pmatrix}\n",
    "$$\n",
    "\n",
    "Strassens algorithm computes 7 products\n",
    "$$\n",
    "\\begin{aligned}\n",
    "P_1 = A(F - H) \\\\\n",
    "P_2 = (A + B)H \\\\\n",
    "P_3 = (C + D)E \\\\\n",
    "P_4 = D(C - E) \\\\\n",
    "P_5 = (A + D)(E + H) \\\\\n",
    "P_6 = (B - D)(G + H) \\\\\n",
    "P_7 = (A - C)(E + F)\n",
    "\\end{aligned}\n",
    "$$\n",
    "\n",
    "Then,\n",
    "\n",
    "$$\n",
    "Z=\n",
    "\\begin{pmatrix} \n",
    "    P_5 + P_4 - P_2 + P_6 & P_1 + P_2 \\\\ \n",
    "    P_3 + P_4 & P_1 + P_5 - P_3 - P_7\n",
    "\\end{pmatrix}\n",
    "$$"
   ]
  },
  {
   "attachments": {},
   "cell_type": "markdown",
   "metadata": {},
   "source": [
    "# Closet Pair Problem\n",
    "\n",
    "Given a set of points in the plane $\\mathbb{R}^2$, find the pair closest to each. Can we do better than $O(n^2)$?"
   ]
  },
  {
   "cell_type": "code",
   "execution_count": 91,
   "metadata": {},
   "outputs": [
    {
     "data": {
      "image/png": "[encoded data removed]",
      "text/plain": [
       "<Figure size 720x720 with 1 Axes>"
      ]
     },
     "metadata": {
      "needs_background": "light"
     },
     "output_type": "display_data"
    }
   ],
   "source": [
    "import numpy as np\n",
    "import matplotlib.pyplot as plt\n",
    "\n",
    "DIMENSION = 2\n",
    "SIZE = 400\n",
    "P = np.random.random((2, SIZE))\n",
    "\n",
    "plt.figure(figsize=(10, 10))\n",
    "plt.scatter(P[0,:], P[1,:])\n",
    "\n",
    "def distance(p, q) -> float:\n",
    "    return np.sqrt((P[0, p] - P[0, q])**2 + (P[1, p] - P[1, q]) **2)\n",
    "\n",
    "# return a list of the indexes sorted through comparison in dataArr\n",
    "def merge_sort(idxArr, dataArr) -> list[int]:\n",
    "    if len(idxArr) == 1: \n",
    "        return idxArr\n",
    "    \n",
    "    half = len(idxArr) // 2\n",
    "    \n",
    "    lsorted = merge_sort(idxArr[:half], dataArr)\n",
    "    rsorted = merge_sort(idxArr[half:], dataArr)\n",
    "\n",
    "    i = 0\n",
    "    j = 0\n",
    "    outArr = []\n",
    "\n",
    "    while i < len(lsorted) and j < len(rsorted):\n",
    "        if dataArr[lsorted[i]] < dataArr[rsorted[j]]:\n",
    "            outArr.append(lsorted[i])\n",
    "            i += 1\n",
    "        else:\n",
    "            outArr.append(rsorted[j])\n",
    "            j += 1\n",
    "    else:\n",
    "        if j < len(rsorted):\n",
    "            outArr = np.concatenate((outArr, rsorted[j:]))\n",
    "        elif i < len(lsorted):\n",
    "            outArr = np.concatenate((outArr, lsorted[i:]))\n",
    "\n",
    "    return outArr"
   ]
  },
  {
   "attachments": {},
   "cell_type": "markdown",
   "metadata": {},
   "source": [
    "We pre-process the points by sorting them, returning two arrays,\n",
    "1. $P_x$ sorted by $x$ values\n",
    "2. $P_y$ sorted by $y$ values\n",
    "\n",
    "This is runs in $O(n\\log n)$"
   ]
  },
  {
   "cell_type": "code",
   "execution_count": 92,
   "metadata": {},
   "outputs": [],
   "source": [
    "seed_idx = np.arange(SIZE)\n",
    "p_x = merge_sort(seed_idx, P[0,:])\n",
    "p_y = merge_sort(seed_idx, P[1,:])"
   ]
  },
  {
   "attachments": {},
   "cell_type": "markdown",
   "metadata": {},
   "source": [
    "Divide and Conquer!\n",
    "1. Split set into two halves by $x$ coordinates, left half $Q$, right half $R$\n",
    "2. recurse into each half\n",
    "3. deal with the case where the closest pair lies on the split boundary"
   ]
  },
  {
   "cell_type": "code",
   "execution_count": 96,
   "metadata": {},
   "outputs": [],
   "source": [
    "def closestPair(x_sorted):\n",
    "    \n",
    "    # Base case runs in O(1) time since the input size is bounded above\n",
    "    if x_sorted.shape[0] <= 4:\n",
    "        pairs = [(i, j) for idx, i in enumerate(x_sorted) for j in x_sorted[idx+1:]]\n",
    "        \n",
    "        best = None\n",
    "        bestPair = None\n",
    "        \n",
    "        for pair in pairs:\n",
    "            dist = distance(*pair)\n",
    "            if best == None:\n",
    "                best = dist\n",
    "                bestPair = pair\n",
    "            elif best < dist:\n",
    "                best = dist\n",
    "                bestPair = pair\n",
    "        \n",
    "        return bestPair\n",
    "    \n",
    "    half_n = len(x_sorted) // 2\n",
    "    \n",
    "    Q_x = x_sorted[:half_n]\n",
    "    boundary_x = P[0, Q_x[-1]]\n",
    "\n",
    "    P_x = x_sorted[half_n:]\n",
    "    \n",
    "    p1, q1 = closestPair(Q_x)\n",
    "    p2, q2 = closestPair(P_x)\n",
    "\n",
    "    leftClosest = distance(p1, q1)\n",
    "    rightClosest = distance(p2, q2)\n",
    "    s = min(leftClosest, rightClosest)\n",
    "    \n",
    "    # SPLIT PAIRS\n",
    "    # we now only need to consider a the reigon from boundary - delta to boundary + delta\n",
    "    critical_strip = p_y[(P[0,p_y] >= boundary_x - s) & (P[0,p_y] <= boundary_x + s)]\n",
    "    size = critical_strip.shape[0]\n",
    "    \n",
    "    for i in range(size):\n",
    "        for j in range(1, min(4, size - i)):\n",
    "            if distance(critical_strip[i], critical_strip[i + j]) < s:\n",
    "                return critical_strip[i], critical_strip[i + j]\n",
    "\n",
    "    if s == leftClosest:\n",
    "        return p1, q1\n",
    "    else:\n",
    "        return p2, q2"
   ]
  },
  {
   "attachments": {},
   "cell_type": "markdown",
   "metadata": {},
   "source": [
    "Note that for the split pair algorithm, it run in $O(n)$ since we only need to check the next positions 4 from each point.\n",
    "\n",
    "Proof:\n",
    "\n",
    "1. Recursive calls will return the closest pairs in both the left half $Q_x$ and the right half $P_x$\n",
    "2. Find the minimum of the two distances $\\delta$\n",
    "3. As the pair will be a split pair, we only need to consider points that lie in a reigon $\\hat{x}\\pm\\delta$ where $\\hat{x}$ is the right most point in the left half $Q_x$.\n",
    "4. Assuming that there exists a pair of points less than $\\delta$, let $P$ be one member of this pair\n",
    "5. WLOG, $P$ lies on the left side. Then there is a $\\delta \\times \\delta$ reigon $R$ on the right side that needs to be searched.\n",
    "6. Since each point in the right side can be at most $\\delta$ appart, we can only fit at most 4 such points into $R$\n",
    "7. Further as the points are sorted beforehand, we can safely assume that the point will occur in the next 4 posiions and not need to consider points before the current point in the loop"
   ]
  },
  {
   "cell_type": "code",
   "execution_count": 99,
   "metadata": {},
   "outputs": [],
   "source": [
    "p, q = closestPair(p_x)"
   ]
  },
  {
   "cell_type": "code",
   "execution_count": 100,
   "metadata": {},
   "outputs": [
    {
     "data": {
      "text/plain": [
       "<matplotlib.collections.PathCollection at 0x184e487c760>"
      ]
     },
     "execution_count": 100,
     "metadata": {},
     "output_type": "execute_result"
    },
    {
     "data": {
      "image/png": "[encoded data removed]",
      "text/plain": [
       "<Figure size 720x720 with 1 Axes>"
      ]
     },
     "metadata": {
      "needs_background": "light"
     },
     "output_type": "display_data"
    }
   ],
   "source": [
    "plt.figure(figsize=(10, 10))\n",
    "plt.scatter(P[0,:], P[1,:])\n",
    "plt.scatter(P[0,p], P[1,q], color=\"r\")"
   ]
  },
  {
   "attachments": {},
   "cell_type": "markdown",
   "metadata": {},
   "source": [
    "# The Master Method\n",
    "\n",
    "Solves for the running time of recurrence relations."
   ]
  },
  {
   "attachments": {},
   "cell_type": "markdown",
   "metadata": {},
   "source": [
    "For a recurrence relation,\n",
    "$$ \n",
    "T(n) \\leq aT\\left(\\frac{n}{b}\\right) + O(n^d) \n",
    "$$\n",
    "\n",
    "Assuming that the base Case runs in constant time for sufficiently small n\n",
    "$$ \n",
    "T(n) \\leq c\n",
    "$$\n",
    "\n",
    "Then,\n",
    "$$\n",
    "T(n) = \n",
    "\\begin{cases}\n",
    "O(n^d\\log{n}) & \\quad \\text{if } a = b^d \\\\\n",
    "O(n^d) & \\quad \\text{if } a < b^d \\\\\n",
    "O(n^{\\log_b{a}})& \\quad \\text{if } a > b^d\n",
    "\\end{cases}\n",
    "$$"
   ]
  },
  {
   "attachments": {},
   "cell_type": "markdown",
   "metadata": {},
   "source": [
    "Proof\n",
    "\n",
    "Assume:\n",
    "1. $T(1) \\leq c$\n",
    "2. $T(n) \\leq aT\\left(\\frac{n}{b}\\right) + Cn^d$\n",
    "3. $\\log_b{n} \\in \\mathbb{Z}$\n",
    "\n",
    "Consider levels of recurion $j = 0, 1, 2, 3, ...$\n",
    "\n",
    "At each level, there are \n",
    "1. $a^j$ sub problems\n",
    "2. each problem is size $\\frac{n}{b^j}$\n",
    "\n",
    "Work at level j is less than or equal to \n",
    "$$\n",
    "a^j \\times c \\times\\left(\\frac{n}{b^j}\\right)^d = cn^d \\times \\left(\\frac{a}{b^d}\\right)^j\n",
    "$$\n",
    "\n",
    "Then the total work $W$ is bounded by the sum,\n",
    "$$\n",
    "W \\leq cn^d \\times \\sum_{j=0}^{\\log_b{n}}{\\left(\\frac{a}{b^d}\\right)^j}\n",
    "$$\n",
    "\n",
    "This is a geometric sum where \n",
    "$$\n",
    "r = \\left(\\frac{a}{b^d}\\right)^j\n",
    "$$\n",
    "\n",
    "This gives us the three conditions,\n",
    "1. $r = 1$ and the sum \n",
    "2. $r < 1$ and the sum \"converges\"\n",
    "3. $r > 1$ and the sum \"diverges\"\n",
    "\n",
    "Case 1:\n",
    "$$\n",
    "W \\leq cn^d \\times \\sum_{j=0}^{\\log_b{n}}{1} = cn^d \\times \\log_b{n} = O(n^d\\log_b{n})\n",
    "$$\n",
    "\n",
    "Case 2:\n",
    "\n",
    "We consider what happens to the sum as $n$ grows large. \n",
    "$$\n",
    "\\sum_{j=0}^{\\log_b{n}}{r} \\leq \\frac{1}{1-r} = O(1)\n",
    "$$\n",
    "Therefore, \n",
    "$$\n",
    "W \\leq cn^d \\times O(1) = O(cn^d)\n",
    "$$\n",
    "\n",
    "Case 3:\n",
    "\n",
    "We can solve the geometric sum \n",
    "$$\n",
    "\\sum_{j=0}^{\\log_b{n}}{\\left(\\frac{a}{b^d}\\right)^j}\n",
    "=\\left(\\dfrac{a}{b^d}\\right)^{\\log_b{n}} \\times \\left(1 + \\frac{1}{\\left(\\dfrac{a}{b^d}\\right) -1}\\right)\n",
    "$$\n",
    "The multiple is a constant term $k$ leaving,\n",
    "$$\n",
    "= k \\times \\left(\\dfrac{a}{b^d}\\right)^{\\log_b{n}}\n",
    "$$\n",
    "We need to re-arrange this expression to be in terms on $n$. Let,\n",
    "$$\n",
    "I = \\left(\\dfrac{a}{b^d}\\right)^{\\log_b{n}} \\\\\n",
    "\n",
    "\\ln{I} = \\log_b{n} \\times \\ln{\\left(\\dfrac{a}{b^d}\\right)} \\\\\n",
    "= \\frac{\\ln{n}}{\\ln{b}} \\times (\\ln{a} - d\\ln{b}) \\\\\n",
    "= \\ln{n} \\times \\frac{\\ln{a}}{\\ln{b}} - d\\ln{n} \\\\\n",
    "= \\ln{\\left(n^{\\log_b{a}}\\right)} - \\ln{n^d} \\\\\n",
    "$$\n",
    "This gives,\n",
    "$$\n",
    "I = \\frac{n^{\\log_b{a}}}{n^d}\n",
    "$$\n",
    "Completing, \n",
    "$$\n",
    "W \\leq = cn^d \\times \\frac{n^{\\log_b{a}}}{n^d} = cn^{\\log_b{a}} = O(n^{\\log_b{a}})\n",
    "$$\n",
    "\n",
    "Since,\n",
    "$$\n",
    "n^{\\log_b{a}} = a^{\\log_b{n}}\n",
    "$$\n",
    "This shows that case 3 simply counts the number of final \"leaf\" nodes in the recursion tree"
   ]
  },
  {
   "attachments": {},
   "cell_type": "markdown",
   "metadata": {},
   "source": [
    "# Optional Theory Problems"
   ]
  },
  {
   "attachments": {},
   "cell_type": "markdown",
   "metadata": {},
   "source": [
    "## 1\n",
    "\n",
    "You are given as input an unsorted array of $n$ distinct numbers, where $n$ is a power of 2. Give an algorithm that identifies the second-largest number in the array, and that uses at most \n",
    "$n+\\log_2{n}-2$\n",
    "comparisons."
   ]
  },
  {
   "cell_type": "code",
   "execution_count": 140,
   "metadata": {},
   "outputs": [
    {
     "name": "stdout",
     "output_type": "stream",
     "text": [
      "test array: [465, 106, 299, 817, 866, 935, 42, 644]\n",
      "second largest element: 866\n",
      "PASSED\n"
     ]
    }
   ],
   "source": [
    "import random\n",
    "from typing import Tuple\n",
    "\n",
    "a = random.sample(range(1, 1000), 2**3)\n",
    "\n",
    "def tournament(game_state: dict[int, list[int]]) -> Tuple[int, list[int]]:\n",
    "\n",
    "    while len(game_state.keys()) > 2:\n",
    "        players = list(game_state.keys())\n",
    "\n",
    "        for i in range(len(players) // 2):\n",
    "            if players[2*i] > players[2*i + 1]:\n",
    "                \n",
    "                game_state[players[2*i]].append(players[2*i + 1])\n",
    "                del game_state[players[2*i + 1]]\n",
    "            else:\n",
    "\n",
    "                game_state[players[2*i + 1]].append(players[2*i])\n",
    "                del game_state[players[2*i]]\n",
    "    else:\n",
    "        players = list(game_state.keys())\n",
    "\n",
    "        if players[0] > players[1]:\n",
    "            return players[0], [*game_state.pop(players[0]), players[1]]\n",
    "        else:\n",
    "            return players[1], [*game_state.pop(players[1]), players[0]]\n",
    "\n",
    "def second_largest(arr: list[int]):\n",
    "    game_state = {k: [] for k in arr}\n",
    "    winner, direct_losers = tournament(game_state)\n",
    "\n",
    "    for i in range(len(direct_losers) -1):\n",
    "        if direct_losers[i] > direct_losers[i + 1]:\n",
    "            a = direct_losers[i]\n",
    "            b = direct_losers[i + 1]\n",
    "\n",
    "            direct_losers[i] = b\n",
    "            direct_losers[i + 1] = a\n",
    "\n",
    "    return direct_losers[-1]\n",
    "\n",
    "result = second_largest(a) \n",
    "\n",
    "print(f'test array: {a}')\n",
    "print(f'second largest element: {result}')\n",
    "\n",
    "a.sort()\n",
    "print(f'{\"PASSED\" if result == a[-2:-1][0] else \"FAILED\"}')"
   ]
  },
  {
   "attachments": {},
   "cell_type": "markdown",
   "metadata": {},
   "source": [
    "Run time analysis:\n",
    "\n",
    "We set up a tournmanet competition such that we end up with the largest element of the array as well as the smaller elements that \"lost\" to the largest element. This will take \n",
    "$$\n",
    "\\frac{n}{2} + \\frac{n}{4} + \\frac{n}{8} + \\cdots + \\frac{n}{n} = n - 1\n",
    "$$\n",
    "comparisons.\n",
    "\n",
    "After the tournament the number of losers is at most $\\log_2{n}$. Therefore, when we do a bubble sort to get the largest element out of the list of losers, at most\n",
    "$$\n",
    "\\log_2{n} -1 \n",
    "$$\n",
    "comparisons are made, yeilding the required upperbound on comparisons"
   ]
  },
  {
   "attachments": {},
   "cell_type": "markdown",
   "metadata": {},
   "source": [
    "## 2\n",
    "You are a given a unimodal array of n distinct elements, meaning that its entries are in increasing order up until its maximum element, after which its elements are in decreasing order. Give an algorithm to compute the maximum element that runs in $O(\\log{n})$ time."
   ]
  },
  {
   "cell_type": "code",
   "execution_count": 165,
   "metadata": {},
   "outputs": [
    {
     "name": "stdout",
     "output_type": "stream",
     "text": [
      "test array: [192, 334, 369, 389, 478, 499, 851, 991, 864, 812, 609, 46]\n",
      "max element: 991\n",
      "PASSED\n"
     ]
    }
   ],
   "source": [
    "import random\n",
    "\n",
    "inc_len = random.randrange(10)\n",
    "dec_len = random.randrange(15)\n",
    "\n",
    "inc_half = random.sample(range(1, 1000), inc_len)\n",
    "inc_half.sort()\n",
    "\n",
    "dec_half = random.sample(range(1, 1000), dec_len)\n",
    "dec_half.sort(reverse=True)\n",
    "\n",
    "a = [*inc_half, *dec_half]\n",
    "\n",
    "def max_element(arr: list[int]):\n",
    "    length = len(arr)\n",
    "    if length == 1:\n",
    "        return arr[0]\n",
    "\n",
    "    cut = len(arr) // 2\n",
    "\n",
    "    left = arr[:cut]\n",
    "    right = arr[cut:]\n",
    "\n",
    "    # increasing case\n",
    "    if left[-1] < right[0]: \n",
    "        return max_element(right)\n",
    "    # decreasing case\n",
    "    else: \n",
    "        return max_element(left)\n",
    "\n",
    "result = max_element(a)\n",
    "\n",
    "print(f'test array: {a}')\n",
    "print(f'max element: {result}')\n",
    "a.sort()\n",
    "print(f'{\"PASSED\" if result == a[-1] else \"FAILED\"}')"
   ]
  },
  {
   "attachments": {},
   "cell_type": "markdown",
   "metadata": {},
   "source": [
    "Run time analysis:\n",
    "\n",
    "Each recursive call is only made on half of the problem size, and each recursive call only makes one operation. Thus,\n",
    "$$\n",
    "T(n) \\leq T\\left(\\frac{n}{2}\\right) + O(1)\n",
    "$$\n",
    "Which has $O(\\log{n})$ running time"
   ]
  },
  {
   "attachments": {},
   "cell_type": "markdown",
   "metadata": {},
   "source": [
    "## 3\n",
    "\n",
    "You are given a sorted (from smallest to largest) array A of n distinct integers which can be positive, negative, or zero. You want to decide whether or not there is an index i such that A[i] = i. Design the fastest algorithm that you can for solving this problem."
   ]
  },
  {
   "cell_type": "code",
   "execution_count": 4,
   "metadata": {},
   "outputs": [
    {
     "data": {
      "text/plain": [
       "True"
      ]
     },
     "execution_count": 4,
     "metadata": {},
     "output_type": "execute_result"
    }
   ],
   "source": [
    "def find_index_match(a: list[int], index_offset=0):\n",
    "    if len(a) == 0:\n",
    "        return False\n",
    "\n",
    "    check_idx= len(a) // 2\n",
    "    if a[check_idx] == check_idx + index_offset:\n",
    "        return True\n",
    "    elif a[check_idx] > check_idx:\n",
    "        return find_index_match(a[:check_idx])\n",
    "    else:\n",
    "        return find_index_match(a[check_idx:], check_idx)\n",
    "    \n",
    "find_index_match([1, 1, 4, 5, 6, 9])"
   ]
  },
  {
   "attachments": {},
   "cell_type": "markdown",
   "metadata": {},
   "source": [
    "Run time analysis:\n",
    "\n",
    "This runs in $O(\\log{n})$ time"
   ]
  },
  {
   "attachments": {},
   "cell_type": "markdown",
   "metadata": {},
   "source": [
    "## 4\n",
    "\n",
    "You are given an n by n grid of distinct numbers. A number is a local minimum if it is smaller than all of its neighbors. (A neighbor of a number is one immediately above, below, to the left, or the right. Most numbers have four neighbors; numbers on the side have three; the four corners have two.) Use the divide-and-conquer algorithm design paradigm to compute a local minimum with only $O(n)$ comparisons between pairs of numbers. \n",
    "\n",
    "(Note: since there are $n^2$ numbers in the input, you cannot afford to look at all of them. Hint: Think about what types of recurrences would give you the desired upper bound.)"
   ]
  },
  {
   "cell_type": "code",
   "execution_count": 9,
   "metadata": {},
   "outputs": [
    {
     "data": {
      "text/plain": [
       "array([[745, 189, 879, 589],\n",
       "       [191, 752, 394, 349],\n",
       "       [518, 431, 759, 235],\n",
       "       [ 40, 905, 370, 301]])"
      ]
     },
     "execution_count": 9,
     "metadata": {},
     "output_type": "execute_result"
    }
   ],
   "source": [
    "import numpy as np\n",
    "import random\n",
    "\n",
    "SIZE = 4\n",
    "grid = np.array(random.sample(range(1, 1000), SIZE**2)).reshape((SIZE, SIZE))\n"
   ]
  },
  {
   "attachments": {},
   "cell_type": "markdown",
   "metadata": {},
   "source": [
    "# Programming Assignment 2"
   ]
  },
  {
   "attachments": {},
   "cell_type": "markdown",
   "metadata": {},
   "source": [
    "This file contains all of the 100,000 integers between 1 and 100,000 (inclusive) in some order, with no integer repeated.\n",
    "\n",
    "Your task is to compute the number of inversions in the file given, where the $i^{th}$ row of the file indicates the $i^{th}$ entry of an array.\n",
    "\n",
    "Because of the large size of this array, you should implement the fast divide-and-conquer algorithm covered in the video lectures.\n",
    "\n",
    "The numeric answer for the given input file should be typed in the space below.\n",
    "\n",
    "So if your answer is 1198233847, then just type 1198233847 in the space provided without any space / commas / any other punctuation marks. You can make up to 5 attempts, and we'll use the best one for grading.\n",
    "\n",
    "(We do not require you to submit your code, so feel free to use any programming language you want --- just type the final numeric answer in the following space.)\n",
    "\n",
    "[TIP: before submitting, first test the correctness of your program on some small test files or your own devising.  Then post your best test cases to the discussion forums to help your fellow students!]"
   ]
  },
  {
   "cell_type": "code",
   "execution_count": 193,
   "metadata": {},
   "outputs": [],
   "source": [
    "def inversions(a: list[int]):\n",
    "    length = len(a)\n",
    "    if length == 1:\n",
    "        return a, 0\n",
    "    \n",
    "    half = length // 2\n",
    "\n",
    "    lsorted, lcount = inversions(a[:half])\n",
    "    rsorted, rcount = inversions(a[half:])\n",
    "    # print('**')\n",
    "    # print(lsorted, lcount)\n",
    "    # print(rsorted, rcount)\n",
    "    #merge step!\n",
    "    i = 0\n",
    "    j = 0\n",
    "    sortedArr = []\n",
    "    mcount = 0\n",
    "    moffset = False\n",
    "    \n",
    "    while i < len(lsorted) and j < len(rsorted):\n",
    "        if moffset:\n",
    "            mcount += j\n",
    "            moffset = False\n",
    "\n",
    "        if lsorted[i] < rsorted[j]:\n",
    "            sortedArr.append(lsorted[i])\n",
    "            \n",
    "            i += 1\n",
    "            moffset = True\n",
    "\n",
    "        elif lsorted[i] > rsorted[j]:\n",
    "            sortedArr.append(rsorted[j])\n",
    "            mcount += 1\n",
    "            j += 1\n",
    "\n",
    "        else:\n",
    "            sortedArr.append(lsorted[i])\n",
    "            sortedArr.append(rsorted[j])\n",
    "\n",
    "            i += 1\n",
    "            j += 1\n",
    "    else:\n",
    "        if j < len(rsorted):\n",
    "            sortedArr = [*sortedArr, *rsorted[j:]]\n",
    "        elif i < len(lsorted):\n",
    "            sortedArr = [*sortedArr, *lsorted[i:]]\n",
    "            mcount += (len(lsorted) -1 - i)*j\n",
    "        \n",
    "    # print(sortedArr, mcount)\n",
    "    return sortedArr, lcount + rcount + mcount"
   ]
  },
  {
   "cell_type": "code",
   "execution_count": 194,
   "metadata": {},
   "outputs": [
    {
     "data": {
      "text/plain": [
       "7"
      ]
     },
     "execution_count": 194,
     "metadata": {},
     "output_type": "execute_result"
    }
   ],
   "source": [
    "inversions([3,4,6,1,2,5])[1]"
   ]
  },
  {
   "cell_type": "code",
   "execution_count": 195,
   "metadata": {},
   "outputs": [
    {
     "data": {
      "text/plain": [
       "2407905288"
      ]
     },
     "execution_count": 195,
     "metadata": {},
     "output_type": "execute_result"
    }
   ],
   "source": [
    "inversions([int(x) for x in open(file='Week 2 IntegerArray.txt', mode='r')])[1]"
   ]
  }
 ],
 "metadata": {
  "kernelspec": {
   "display_name": "Python 3",
   "language": "python",
   "name": "python3"
  },
  "language_info": {
   "codemirror_mode": {
    "name": "ipython",
    "version": 3
   },
   "file_extension": ".py",
   "mimetype": "text/x-python",
   "name": "python",
   "nbconvert_exporter": "python",
   "pygments_lexer": "ipython3",
   "version": "3.9.6"
  },
  "orig_nbformat": 4
 },
 "nbformat": 4,
 "nbformat_minor": 2
}
