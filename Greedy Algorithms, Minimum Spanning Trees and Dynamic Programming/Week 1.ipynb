{
 "cells": [
  {
   "attachments": {},
   "cell_type": "markdown",
   "metadata": {},
   "source": [
    "# Motivating Applications"
   ]
  },
  {
   "attachments": {},
   "cell_type": "markdown",
   "metadata": {},
   "source": [
    "## 1. Internet Routing\n",
    "\n",
    "Let the vertices of the graph be\n",
    "\n",
    "1. Hosts / Servers\n",
    "2. Routers\n",
    "\n",
    "And whose edges are directed if there is a physical / wireless connection between the vertices.\n",
    "\n",
    "A fundamental question would be to determine what the shortest path / minimising path is.\n",
    "\n",
    "However, unlike the case where we could use Dijkstra's algorithm, the internet graph is too large and too dynamic to fit in memory. \n",
    "\n",
    "This calls for an algorithm that only computes local information.\n",
    "\n",
    "This is known as the [Bellman-Ford](https://en.wikipedia.org/wiki/Bellman%E2%80%93Ford_algorithm) algorithm."
   ]
  },
  {
   "attachments": {},
   "cell_type": "markdown",
   "metadata": {},
   "source": [
    "## 2. Sequence Alignment\n",
    "\n",
    "Given two strings $s_1$, $s_2$ over a set of characters $A$. For example,\n",
    "$$\n",
    "A = \\{\\text{A}, \\text{C}, \\text{G}, \\text{T}\\} \\\\[10pt]\n",
    "s_1 = \\text{AGGCT} \\\\\n",
    "s_2 =  \\text{AGGGCA} \\\\\n",
    "$$\n",
    "\n",
    "Compute how \"similar\" the two strings are.\n",
    "\n",
    "We might want to do this to\n",
    "\n",
    "1. Extrapolate the function of genome substrings\n",
    "2. Infer evolutionary proximity\n",
    "\n",
    "To be precise about \"similarity\", let us first define the distance between two strings $d(s_1, s_2, \\alpha)$ to be,\n",
    "$$\n",
    "d(s_1, s_2, \\alpha) = \\sum{\\text{penalties}(\\alpha)} \\\\[20pt]\n",
    "$$\n",
    "for a given alignment $\\alpha$ where\n",
    "$$\n",
    "\\text{penalties}(\\alpha) = \n",
    "\\begin{cases}\n",
    "    \\text{gap} \\geq 0 & \\text{for each gap in} \\; \\alpha \\\\\n",
    "    \\text{mismatch} \\geq 0 & \\text{for each mismatch in} \\; \\alpha \\\\\n",
    "    \\quad \\vdots\n",
    "\\end{cases}\n",
    "$$\n",
    "\n",
    "Then the \"similairity\" of the two strings is the alignment of the strings that minimises the distance.\n",
    "$$\n",
    "\\text{similarity} = \\min_{\\alpha}{d(s_1, s_2, \\alpha)}\n",
    "$$\n",
    "\n",
    "This is known as the [Needleman-Wunsch Score](https://en.wikipedia.org/wiki/Needleman%E2%80%93Wunsch_algorithm#:~:text=The%20Needleman%E2%80%93Wunsch%20algorithm%20is%20still%20widely%20used%20for%20optimal,alignments%20having%20the%20highest%20score.)"
   ]
  }
 ],
 "metadata": {
  "kernelspec": {
   "display_name": "Python 3",
   "language": "python",
   "name": "python3"
  },
  "language_info": {
   "name": "python",
   "version": "3.11.3"
  },
  "orig_nbformat": 4
 },
 "nbformat": 4,
 "nbformat_minor": 2
}
